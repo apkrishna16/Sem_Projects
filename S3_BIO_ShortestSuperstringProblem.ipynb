{
  "nbformat": 4,
  "nbformat_minor": 0,
  "metadata": {
    "colab": {
      "provenance": []
    },
    "kernelspec": {
      "name": "python3",
      "display_name": "Python 3"
    },
    "language_info": {
      "name": "python"
    }
  },
  "cells": [
    {
      "cell_type": "code",
      "execution_count": null,
      "metadata": {
        "colab": {
          "base_uri": "https://localhost:8080/"
        },
        "id": "QVPhVxlZ8Qb3",
        "outputId": "41e188d3-ab22-4cb9-f78c-cb652ec500be"
      },
      "outputs": [
        {
          "output_type": "stream",
          "name": "stdout",
          "text": [
            "Enter string list: ['CATGC', 'CTAAGT', 'GCTA', 'TTCA', 'ATGCATC']\n",
            "Shortest Superstring -  GCTAAGTTCATGCATC\n"
          ]
        }
      ],
      "source": [
        "def overlapping_pair(s1, s2):\n",
        "    max = 0\n",
        "    n = min(len(s1), len(s2))\n",
        "    s = ''\n",
        "    for i in range(1, n+1):\n",
        "        if s1[-i:] == s2[0:i]:\n",
        "            if max<i:\n",
        "                max = i\n",
        "                s = s1 + s2[-(len(s2)-i):]\n",
        "    for i in range(1, n+1):\n",
        "        if s1[0:i] == s2[-i:]:\n",
        "            if max < i:\n",
        "                max = i\n",
        "                s = s2 + s1[-(len(s1)-i):]\n",
        "    return max, s\n",
        "\n",
        "def shortest_super_string(string_list):\n",
        "    n = len(string_list)\n",
        "    while (n != 1):\n",
        "        max = 0\n",
        "        p = -1\n",
        "        q = -1\n",
        "        res_str = ''\n",
        "        for i in range(n):\n",
        "            for j in range(i+1, n):\n",
        "                max_overlap, s = overlapping_pair(string_list[i], string_list[j])\n",
        "                if max < max_overlap:\n",
        "                    max = max_overlap\n",
        "                    p = i\n",
        "                    q = j\n",
        "                    res_str = s\n",
        "        n -= 1\n",
        "        if max == 0:\n",
        "            string_list[0] = string_list[0] + string_list[1]\n",
        "            string_list.pop(1)\n",
        "        else:\n",
        "            string_list[p] = res_str\n",
        "            string_list.pop(q)\n",
        "\n",
        "    return string_list[0]\n",
        "\n",
        "seq_list = eval(input('Enter string list: '))\n",
        "shortest_super_str = shortest_super_string(seq_list)\n",
        "print('Shortest Superstring - ', shortest_super_str)"
      ]
    }
  ]
}