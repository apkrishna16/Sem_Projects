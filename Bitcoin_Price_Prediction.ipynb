{
  "nbformat": 4,
  "nbformat_minor": 0,
  "metadata": {
    "colab": {
      "provenance": []
    },
    "kernelspec": {
      "name": "python3",
      "display_name": "Python 3"
    },
    "language_info": {
      "name": "python"
    }
  },
  "cells": [
    {
      "cell_type": "markdown",
      "source": [
        "# Bitcoin Price Prediction\n",
        "Linear Regression (Open, High, Low, Volume)\n"
      ],
      "metadata": {
        "id": "dbIxCBMwqUqO"
      }
    },
    {
      "cell_type": "markdown",
      "source": [
        " ### Loading libraries and datasets"
      ],
      "metadata": {
        "id": "yvTdWKUm1Tt9"
      }
    },
    {
      "cell_type": "code",
      "source": [
        "#Importing libraries\n",
        "\n",
        "import numpy as np\n",
        "import pandas as pd\n",
        "import math\n",
        "#plots and graphs\n",
        "import matplotlib.pyplot as plt\n",
        "import seaborn as sns\n",
        "#preparation\n",
        "from sklearn import preprocessing\n",
        "from sklearn.model_selection import train_test_split\n",
        "#validation\n",
        "from sklearn.model_selection import cross_val_score, KFold\n",
        "from sklearn.metrics import r2_score, mean_squared_error, mean_absolute_error\n",
        "#linear regression\n",
        "from sklearn.linear_model import LinearRegression\n",
        "#TSA model\n",
        "from statsmodels.tsa.arima_model import ARIMA\n",
        "import warnings\n",
        "warnings.filterwarnings('ignore')"
      ],
      "metadata": {
        "id": "Ms69qvbk0sHf"
      },
      "execution_count": null,
      "outputs": []
    },
    {
      "cell_type": "code",
      "source": [
        "# Mounting google drive\n",
        "\n",
        "from google.colab import drive\n",
        "drive.mount('/content/drive')"
      ],
      "metadata": {
        "colab": {
          "base_uri": "https://localhost:8080/"
        },
        "id": "K4LbgGhrh2_Y",
        "outputId": "6c2e8c41-7bec-4df6-8a6c-454ab69e7084"
      },
      "execution_count": null,
      "outputs": [
        {
          "output_type": "stream",
          "name": "stdout",
          "text": [
            "Drive already mounted at /content/drive; to attempt to forcibly remount, call drive.mount(\"/content/drive\", force_remount=True).\n"
          ]
        }
      ]
    },
    {
      "cell_type": "code",
      "source": [
        "# Loading dataset\n",
        "\n",
        "df = pd.read_csv(\"/content/drive/MyDrive/Datasets/Bitcoin Historical Data.csv\")"
      ],
      "metadata": {
        "id": "xzVOo-2I0PHf"
      },
      "execution_count": null,
      "outputs": []
    },
    {
      "cell_type": "markdown",
      "source": [
        "### Data Processing"
      ],
      "metadata": {
        "id": "jFwM3NlXyRkr"
      }
    },
    {
      "cell_type": "code",
      "source": [
        "df.head()"
      ],
      "metadata": {
        "colab": {
          "base_uri": "https://localhost:8080/",
          "height": 206
        },
        "id": "tbwRSjUlzrDq",
        "outputId": "64de26a1-e125-4b1d-cd8a-c614ac996589"
      },
      "execution_count": null,
      "outputs": [
        {
          "output_type": "execute_result",
          "data": {
            "text/plain": [
              "           Date     Price      Open      High       Low     Vol. Change %\n",
              "0  Jul 12, 2022  19,994.9  19,963.2  20,026.9  19,794.8  155.09K    0.16%\n",
              "1  Jul 11, 2022  19,963.2  20,847.2  20,855.0  19,897.0  160.20K   -4.24%\n",
              "2  Jul 10, 2022  20,847.4  21,587.4  21,599.2  20,689.7  204.68K   -3.43%\n",
              "3  Jul 09, 2022  21,587.5  21,610.4  21,944.1  21,338.4  190.11K   -0.11%\n",
              "4  Jul 08, 2022  21,611.2  21,637.1  22,482.1  21,207.0  439.90K   -0.12%"
            ],
            "text/html": [
              "\n",
              "  <div id=\"df-08a1e314-c55a-4aa4-96a4-722b0f917396\">\n",
              "    <div class=\"colab-df-container\">\n",
              "      <div>\n",
              "<style scoped>\n",
              "    .dataframe tbody tr th:only-of-type {\n",
              "        vertical-align: middle;\n",
              "    }\n",
              "\n",
              "    .dataframe tbody tr th {\n",
              "        vertical-align: top;\n",
              "    }\n",
              "\n",
              "    .dataframe thead th {\n",
              "        text-align: right;\n",
              "    }\n",
              "</style>\n",
              "<table border=\"1\" class=\"dataframe\">\n",
              "  <thead>\n",
              "    <tr style=\"text-align: right;\">\n",
              "      <th></th>\n",
              "      <th>Date</th>\n",
              "      <th>Price</th>\n",
              "      <th>Open</th>\n",
              "      <th>High</th>\n",
              "      <th>Low</th>\n",
              "      <th>Vol.</th>\n",
              "      <th>Change %</th>\n",
              "    </tr>\n",
              "  </thead>\n",
              "  <tbody>\n",
              "    <tr>\n",
              "      <th>0</th>\n",
              "      <td>Jul 12, 2022</td>\n",
              "      <td>19,994.9</td>\n",
              "      <td>19,963.2</td>\n",
              "      <td>20,026.9</td>\n",
              "      <td>19,794.8</td>\n",
              "      <td>155.09K</td>\n",
              "      <td>0.16%</td>\n",
              "    </tr>\n",
              "    <tr>\n",
              "      <th>1</th>\n",
              "      <td>Jul 11, 2022</td>\n",
              "      <td>19,963.2</td>\n",
              "      <td>20,847.2</td>\n",
              "      <td>20,855.0</td>\n",
              "      <td>19,897.0</td>\n",
              "      <td>160.20K</td>\n",
              "      <td>-4.24%</td>\n",
              "    </tr>\n",
              "    <tr>\n",
              "      <th>2</th>\n",
              "      <td>Jul 10, 2022</td>\n",
              "      <td>20,847.4</td>\n",
              "      <td>21,587.4</td>\n",
              "      <td>21,599.2</td>\n",
              "      <td>20,689.7</td>\n",
              "      <td>204.68K</td>\n",
              "      <td>-3.43%</td>\n",
              "    </tr>\n",
              "    <tr>\n",
              "      <th>3</th>\n",
              "      <td>Jul 09, 2022</td>\n",
              "      <td>21,587.5</td>\n",
              "      <td>21,610.4</td>\n",
              "      <td>21,944.1</td>\n",
              "      <td>21,338.4</td>\n",
              "      <td>190.11K</td>\n",
              "      <td>-0.11%</td>\n",
              "    </tr>\n",
              "    <tr>\n",
              "      <th>4</th>\n",
              "      <td>Jul 08, 2022</td>\n",
              "      <td>21,611.2</td>\n",
              "      <td>21,637.1</td>\n",
              "      <td>22,482.1</td>\n",
              "      <td>21,207.0</td>\n",
              "      <td>439.90K</td>\n",
              "      <td>-0.12%</td>\n",
              "    </tr>\n",
              "  </tbody>\n",
              "</table>\n",
              "</div>\n",
              "      <button class=\"colab-df-convert\" onclick=\"convertToInteractive('df-08a1e314-c55a-4aa4-96a4-722b0f917396')\"\n",
              "              title=\"Convert this dataframe to an interactive table.\"\n",
              "              style=\"display:none;\">\n",
              "        \n",
              "  <svg xmlns=\"http://www.w3.org/2000/svg\" height=\"24px\"viewBox=\"0 0 24 24\"\n",
              "       width=\"24px\">\n",
              "    <path d=\"M0 0h24v24H0V0z\" fill=\"none\"/>\n",
              "    <path d=\"M18.56 5.44l.94 2.06.94-2.06 2.06-.94-2.06-.94-.94-2.06-.94 2.06-2.06.94zm-11 1L8.5 8.5l.94-2.06 2.06-.94-2.06-.94L8.5 2.5l-.94 2.06-2.06.94zm10 10l.94 2.06.94-2.06 2.06-.94-2.06-.94-.94-2.06-.94 2.06-2.06.94z\"/><path d=\"M17.41 7.96l-1.37-1.37c-.4-.4-.92-.59-1.43-.59-.52 0-1.04.2-1.43.59L10.3 9.45l-7.72 7.72c-.78.78-.78 2.05 0 2.83L4 21.41c.39.39.9.59 1.41.59.51 0 1.02-.2 1.41-.59l7.78-7.78 2.81-2.81c.8-.78.8-2.07 0-2.86zM5.41 20L4 18.59l7.72-7.72 1.47 1.35L5.41 20z\"/>\n",
              "  </svg>\n",
              "      </button>\n",
              "      \n",
              "  <style>\n",
              "    .colab-df-container {\n",
              "      display:flex;\n",
              "      flex-wrap:wrap;\n",
              "      gap: 12px;\n",
              "    }\n",
              "\n",
              "    .colab-df-convert {\n",
              "      background-color: #E8F0FE;\n",
              "      border: none;\n",
              "      border-radius: 50%;\n",
              "      cursor: pointer;\n",
              "      display: none;\n",
              "      fill: #1967D2;\n",
              "      height: 32px;\n",
              "      padding: 0 0 0 0;\n",
              "      width: 32px;\n",
              "    }\n",
              "\n",
              "    .colab-df-convert:hover {\n",
              "      background-color: #E2EBFA;\n",
              "      box-shadow: 0px 1px 2px rgba(60, 64, 67, 0.3), 0px 1px 3px 1px rgba(60, 64, 67, 0.15);\n",
              "      fill: #174EA6;\n",
              "    }\n",
              "\n",
              "    [theme=dark] .colab-df-convert {\n",
              "      background-color: #3B4455;\n",
              "      fill: #D2E3FC;\n",
              "    }\n",
              "\n",
              "    [theme=dark] .colab-df-convert:hover {\n",
              "      background-color: #434B5C;\n",
              "      box-shadow: 0px 1px 3px 1px rgba(0, 0, 0, 0.15);\n",
              "      filter: drop-shadow(0px 1px 2px rgba(0, 0, 0, 0.3));\n",
              "      fill: #FFFFFF;\n",
              "    }\n",
              "  </style>\n",
              "\n",
              "      <script>\n",
              "        const buttonEl =\n",
              "          document.querySelector('#df-08a1e314-c55a-4aa4-96a4-722b0f917396 button.colab-df-convert');\n",
              "        buttonEl.style.display =\n",
              "          google.colab.kernel.accessAllowed ? 'block' : 'none';\n",
              "\n",
              "        async function convertToInteractive(key) {\n",
              "          const element = document.querySelector('#df-08a1e314-c55a-4aa4-96a4-722b0f917396');\n",
              "          const dataTable =\n",
              "            await google.colab.kernel.invokeFunction('convertToInteractive',\n",
              "                                                     [key], {});\n",
              "          if (!dataTable) return;\n",
              "\n",
              "          const docLinkHtml = 'Like what you see? Visit the ' +\n",
              "            '<a target=\"_blank\" href=https://colab.research.google.com/notebooks/data_table.ipynb>data table notebook</a>'\n",
              "            + ' to learn more about interactive tables.';\n",
              "          element.innerHTML = '';\n",
              "          dataTable['output_type'] = 'display_data';\n",
              "          await google.colab.output.renderOutput(dataTable, element);\n",
              "          const docLink = document.createElement('div');\n",
              "          docLink.innerHTML = docLinkHtml;\n",
              "          element.appendChild(docLink);\n",
              "        }\n",
              "      </script>\n",
              "    </div>\n",
              "  </div>\n",
              "  "
            ]
          },
          "metadata": {},
          "execution_count": 95
        }
      ]
    },
    {
      "cell_type": "code",
      "source": [
        "df.Date = pd.to_datetime(df.Date)   # changing to datetime"
      ],
      "metadata": {
        "id": "WK8YU4gbGXTP"
      },
      "execution_count": null,
      "outputs": []
    },
    {
      "cell_type": "code",
      "source": [
        "df = df.rename(columns = {'Vol.':'Vol'})"
      ],
      "metadata": {
        "id": "tjb18NwV08SY"
      },
      "execution_count": null,
      "outputs": []
    },
    {
      "cell_type": "code",
      "source": [
        "df.head()"
      ],
      "metadata": {
        "id": "APVDhcKy0wEb",
        "colab": {
          "base_uri": "https://localhost:8080/",
          "height": 206
        },
        "outputId": "45068a73-2241-403b-e0d7-bee5a11caac6"
      },
      "execution_count": null,
      "outputs": [
        {
          "output_type": "execute_result",
          "data": {
            "text/plain": [
              "        Date     Price      Open      High       Low      Vol Change %\n",
              "0 2022-07-12  19,994.9  19,963.2  20,026.9  19,794.8  155.09K    0.16%\n",
              "1 2022-07-11  19,963.2  20,847.2  20,855.0  19,897.0  160.20K   -4.24%\n",
              "2 2022-07-10  20,847.4  21,587.4  21,599.2  20,689.7  204.68K   -3.43%\n",
              "3 2022-07-09  21,587.5  21,610.4  21,944.1  21,338.4  190.11K   -0.11%\n",
              "4 2022-07-08  21,611.2  21,637.1  22,482.1  21,207.0  439.90K   -0.12%"
            ],
            "text/html": [
              "\n",
              "  <div id=\"df-f14c45a4-a6ab-4ff6-8407-1ddae306dda6\">\n",
              "    <div class=\"colab-df-container\">\n",
              "      <div>\n",
              "<style scoped>\n",
              "    .dataframe tbody tr th:only-of-type {\n",
              "        vertical-align: middle;\n",
              "    }\n",
              "\n",
              "    .dataframe tbody tr th {\n",
              "        vertical-align: top;\n",
              "    }\n",
              "\n",
              "    .dataframe thead th {\n",
              "        text-align: right;\n",
              "    }\n",
              "</style>\n",
              "<table border=\"1\" class=\"dataframe\">\n",
              "  <thead>\n",
              "    <tr style=\"text-align: right;\">\n",
              "      <th></th>\n",
              "      <th>Date</th>\n",
              "      <th>Price</th>\n",
              "      <th>Open</th>\n",
              "      <th>High</th>\n",
              "      <th>Low</th>\n",
              "      <th>Vol</th>\n",
              "      <th>Change %</th>\n",
              "    </tr>\n",
              "  </thead>\n",
              "  <tbody>\n",
              "    <tr>\n",
              "      <th>0</th>\n",
              "      <td>2022-07-12</td>\n",
              "      <td>19,994.9</td>\n",
              "      <td>19,963.2</td>\n",
              "      <td>20,026.9</td>\n",
              "      <td>19,794.8</td>\n",
              "      <td>155.09K</td>\n",
              "      <td>0.16%</td>\n",
              "    </tr>\n",
              "    <tr>\n",
              "      <th>1</th>\n",
              "      <td>2022-07-11</td>\n",
              "      <td>19,963.2</td>\n",
              "      <td>20,847.2</td>\n",
              "      <td>20,855.0</td>\n",
              "      <td>19,897.0</td>\n",
              "      <td>160.20K</td>\n",
              "      <td>-4.24%</td>\n",
              "    </tr>\n",
              "    <tr>\n",
              "      <th>2</th>\n",
              "      <td>2022-07-10</td>\n",
              "      <td>20,847.4</td>\n",
              "      <td>21,587.4</td>\n",
              "      <td>21,599.2</td>\n",
              "      <td>20,689.7</td>\n",
              "      <td>204.68K</td>\n",
              "      <td>-3.43%</td>\n",
              "    </tr>\n",
              "    <tr>\n",
              "      <th>3</th>\n",
              "      <td>2022-07-09</td>\n",
              "      <td>21,587.5</td>\n",
              "      <td>21,610.4</td>\n",
              "      <td>21,944.1</td>\n",
              "      <td>21,338.4</td>\n",
              "      <td>190.11K</td>\n",
              "      <td>-0.11%</td>\n",
              "    </tr>\n",
              "    <tr>\n",
              "      <th>4</th>\n",
              "      <td>2022-07-08</td>\n",
              "      <td>21,611.2</td>\n",
              "      <td>21,637.1</td>\n",
              "      <td>22,482.1</td>\n",
              "      <td>21,207.0</td>\n",
              "      <td>439.90K</td>\n",
              "      <td>-0.12%</td>\n",
              "    </tr>\n",
              "  </tbody>\n",
              "</table>\n",
              "</div>\n",
              "      <button class=\"colab-df-convert\" onclick=\"convertToInteractive('df-f14c45a4-a6ab-4ff6-8407-1ddae306dda6')\"\n",
              "              title=\"Convert this dataframe to an interactive table.\"\n",
              "              style=\"display:none;\">\n",
              "        \n",
              "  <svg xmlns=\"http://www.w3.org/2000/svg\" height=\"24px\"viewBox=\"0 0 24 24\"\n",
              "       width=\"24px\">\n",
              "    <path d=\"M0 0h24v24H0V0z\" fill=\"none\"/>\n",
              "    <path d=\"M18.56 5.44l.94 2.06.94-2.06 2.06-.94-2.06-.94-.94-2.06-.94 2.06-2.06.94zm-11 1L8.5 8.5l.94-2.06 2.06-.94-2.06-.94L8.5 2.5l-.94 2.06-2.06.94zm10 10l.94 2.06.94-2.06 2.06-.94-2.06-.94-.94-2.06-.94 2.06-2.06.94z\"/><path d=\"M17.41 7.96l-1.37-1.37c-.4-.4-.92-.59-1.43-.59-.52 0-1.04.2-1.43.59L10.3 9.45l-7.72 7.72c-.78.78-.78 2.05 0 2.83L4 21.41c.39.39.9.59 1.41.59.51 0 1.02-.2 1.41-.59l7.78-7.78 2.81-2.81c.8-.78.8-2.07 0-2.86zM5.41 20L4 18.59l7.72-7.72 1.47 1.35L5.41 20z\"/>\n",
              "  </svg>\n",
              "      </button>\n",
              "      \n",
              "  <style>\n",
              "    .colab-df-container {\n",
              "      display:flex;\n",
              "      flex-wrap:wrap;\n",
              "      gap: 12px;\n",
              "    }\n",
              "\n",
              "    .colab-df-convert {\n",
              "      background-color: #E8F0FE;\n",
              "      border: none;\n",
              "      border-radius: 50%;\n",
              "      cursor: pointer;\n",
              "      display: none;\n",
              "      fill: #1967D2;\n",
              "      height: 32px;\n",
              "      padding: 0 0 0 0;\n",
              "      width: 32px;\n",
              "    }\n",
              "\n",
              "    .colab-df-convert:hover {\n",
              "      background-color: #E2EBFA;\n",
              "      box-shadow: 0px 1px 2px rgba(60, 64, 67, 0.3), 0px 1px 3px 1px rgba(60, 64, 67, 0.15);\n",
              "      fill: #174EA6;\n",
              "    }\n",
              "\n",
              "    [theme=dark] .colab-df-convert {\n",
              "      background-color: #3B4455;\n",
              "      fill: #D2E3FC;\n",
              "    }\n",
              "\n",
              "    [theme=dark] .colab-df-convert:hover {\n",
              "      background-color: #434B5C;\n",
              "      box-shadow: 0px 1px 3px 1px rgba(0, 0, 0, 0.15);\n",
              "      filter: drop-shadow(0px 1px 2px rgba(0, 0, 0, 0.3));\n",
              "      fill: #FFFFFF;\n",
              "    }\n",
              "  </style>\n",
              "\n",
              "      <script>\n",
              "        const buttonEl =\n",
              "          document.querySelector('#df-f14c45a4-a6ab-4ff6-8407-1ddae306dda6 button.colab-df-convert');\n",
              "        buttonEl.style.display =\n",
              "          google.colab.kernel.accessAllowed ? 'block' : 'none';\n",
              "\n",
              "        async function convertToInteractive(key) {\n",
              "          const element = document.querySelector('#df-f14c45a4-a6ab-4ff6-8407-1ddae306dda6');\n",
              "          const dataTable =\n",
              "            await google.colab.kernel.invokeFunction('convertToInteractive',\n",
              "                                                     [key], {});\n",
              "          if (!dataTable) return;\n",
              "\n",
              "          const docLinkHtml = 'Like what you see? Visit the ' +\n",
              "            '<a target=\"_blank\" href=https://colab.research.google.com/notebooks/data_table.ipynb>data table notebook</a>'\n",
              "            + ' to learn more about interactive tables.';\n",
              "          element.innerHTML = '';\n",
              "          dataTable['output_type'] = 'display_data';\n",
              "          await google.colab.output.renderOutput(dataTable, element);\n",
              "          const docLink = document.createElement('div');\n",
              "          docLink.innerHTML = docLinkHtml;\n",
              "          element.appendChild(docLink);\n",
              "        }\n",
              "      </script>\n",
              "    </div>\n",
              "  </div>\n",
              "  "
            ]
          },
          "metadata": {},
          "execution_count": 98
        }
      ]
    },
    {
      "cell_type": "code",
      "source": [
        "print(\"Shape \", df.shape)\n",
        "print(\"______________________________________\")\n",
        "print(\"Describe \", df.describe())\n",
        "print(\"______________________________________\")\n",
        "print(\"Info \", df.info())"
      ],
      "metadata": {
        "id": "OXeciQPX03a6",
        "colab": {
          "base_uri": "https://localhost:8080/"
        },
        "outputId": "5eace24a-3f69-4107-be51-ebdaf981f57d"
      },
      "execution_count": null,
      "outputs": [
        {
          "output_type": "stream",
          "name": "stdout",
          "text": [
            "Shape  (1462, 7)\n",
            "______________________________________\n",
            "Describe                         Date    Price     Open      High      Low    Vol  \\\n",
            "count                  1462     1462     1462      1462     1462   1462   \n",
            "unique                 1462     1459     1452      1449     1458   1395   \n",
            "top     2022-07-12 00:00:00  9,424.8  9,300.5  38,776.0  9,193.9  1.05M   \n",
            "freq                      1        2        2         2        2      6   \n",
            "first   2018-07-12 00:00:00      NaN      NaN       NaN      NaN    NaN   \n",
            "last    2022-07-12 00:00:00      NaN      NaN       NaN      NaN    NaN   \n",
            "\n",
            "       Change %  \n",
            "count      1462  \n",
            "unique      838  \n",
            "top      -0.50%  \n",
            "freq          7  \n",
            "first       NaN  \n",
            "last        NaN  \n",
            "______________________________________\n",
            "<class 'pandas.core.frame.DataFrame'>\n",
            "RangeIndex: 1462 entries, 0 to 1461\n",
            "Data columns (total 7 columns):\n",
            " #   Column    Non-Null Count  Dtype         \n",
            "---  ------    --------------  -----         \n",
            " 0   Date      1462 non-null   datetime64[ns]\n",
            " 1   Price     1462 non-null   object        \n",
            " 2   Open      1462 non-null   object        \n",
            " 3   High      1462 non-null   object        \n",
            " 4   Low       1462 non-null   object        \n",
            " 5   Vol       1462 non-null   object        \n",
            " 6   Change %  1462 non-null   object        \n",
            "dtypes: datetime64[ns](1), object(6)\n",
            "memory usage: 80.1+ KB\n",
            "Info  None\n"
          ]
        }
      ]
    },
    {
      "cell_type": "code",
      "source": [
        "# Checking for missing values\n",
        "\n",
        "total = df.isnull().sum().sort_values(ascending=False)\n",
        "percent = (df.isnull().sum()/df.isnull().count()).sort_values(ascending=False)\n",
        "missing_data = pd.concat([total, percent], axis=1, keys=['Total', 'Percent'])\n",
        "print(missing_data)"
      ],
      "metadata": {
        "id": "rTK5bfY105yK",
        "colab": {
          "base_uri": "https://localhost:8080/"
        },
        "outputId": "e71cfc6d-28ac-4485-ad1d-c8bb8c3def22"
      },
      "execution_count": null,
      "outputs": [
        {
          "output_type": "stream",
          "name": "stdout",
          "text": [
            "          Total  Percent\n",
            "Date          0      0.0\n",
            "Price         0      0.0\n",
            "Open          0      0.0\n",
            "High          0      0.0\n",
            "Low           0      0.0\n",
            "Vol           0      0.0\n",
            "Change %      0      0.0\n"
          ]
        }
      ]
    },
    {
      "cell_type": "code",
      "source": [
        "# Cleaning dataset\n",
        "\n",
        "#converting string to float, replacing commas and characters\n",
        "price_old=[]\n",
        "price_new=[]\n",
        "for i in df.index:\n",
        "  val=df.iloc[i][1]\n",
        "  edit_val = val.replace(\",\", \"\")\n",
        "  float_val = float(edit_val)\n",
        "  price_old.append(val)\n",
        "  price_new.append(float_val)\n",
        "df['Price'] = df['Price'].replace(price_old, price_new)\n",
        "\n",
        "open_old=[]\n",
        "open_new=[]\n",
        "for i in df.index:\n",
        "  val=df.iloc[i][2]\n",
        "  edit_val = val.replace(\",\", \"\")\n",
        "  float_val = float(edit_val)\n",
        "  open_old.append(val)\n",
        "  open_new.append(float_val)\n",
        "df['Open'] = df['Open'].replace(open_old, open_new)\n",
        "\n",
        "high_old=[]\n",
        "high_new=[]\n",
        "for i in df.index:\n",
        "  val=df.iloc[i][3]\n",
        "  edit_val = val.replace(\",\", \"\")\n",
        "  float_val = float(edit_val)\n",
        "  high_old.append(val)\n",
        "  high_new.append(float_val)\n",
        "df['High'] = df['High'].replace(high_old, high_new)\n",
        "\n",
        "low_old=[]\n",
        "low_new=[]\n",
        "for i in df.index:\n",
        "  val=df.iloc[i][4]\n",
        "  if 'K' in val:\n",
        "    edit_val = val.replace('K', '')\n",
        "    float_val = float(edit_val)\n",
        "    float_val = float_val*1000\n",
        "  elif 'M' in val:\n",
        "    edit_val = val.replace('M', '')\n",
        "    float_val = float(edit_val)\n",
        "    float_val = float_val*1000000\n",
        "  elif 'B' in val:\n",
        "    edit_val = val.replace('B', '')\n",
        "    float_val = float(edit_val)\n",
        "    float_val = float_val*1000000000\n",
        "  else:\n",
        "    edit_val = val.replace(\",\", \"\")\n",
        "    float_val = float(edit_val)\n",
        "  low_old.append(val)\n",
        "  low_new.append(float_val)\n",
        "df['Low'] = df['Low'].replace(low_old, low_new)\n",
        "\n",
        "vol_old=[]\n",
        "vol_new=[]\n",
        "for i in df.index:\n",
        "  val=df.iloc[i][5]\n",
        "  if 'K' in val:\n",
        "    edit_val = val.replace('K', '')\n",
        "    float_val = float(edit_val)\n",
        "    float_val = float_val*1000\n",
        "  elif 'M' in val:\n",
        "    edit_val = val.replace('M', '')\n",
        "    float_val = float(edit_val)\n",
        "    float_val = float_val*1000000\n",
        "  elif 'B' in val:\n",
        "    edit_val = val.replace('B', '')\n",
        "    float_val = float(edit_val)\n",
        "    float_val = float_val*1000000000\n",
        "  else:\n",
        "    edit_val = val.replace(\",\", \"\")\n",
        "    float_val = float(edit_val)\n",
        "  vol_old.append(val)\n",
        "  vol_new.append(float_val)\n",
        "df['Vol'] = df['Vol'].replace(vol_old, vol_new)\n",
        ""
      ],
      "metadata": {
        "id": "0BxxAXQuEAeq"
      },
      "execution_count": null,
      "outputs": []
    },
    {
      "cell_type": "code",
      "source": [
        "df.head()"
      ],
      "metadata": {
        "colab": {
          "base_uri": "https://localhost:8080/",
          "height": 206
        },
        "id": "4LZ1FJP_1tsV",
        "outputId": "42c60079-4ac1-45f3-cd7c-e6f4e9832d31"
      },
      "execution_count": null,
      "outputs": [
        {
          "output_type": "execute_result",
          "data": {
            "text/plain": [
              "        Date    Price     Open     High      Low       Vol Change %\n",
              "0 2022-07-12  19994.9  19963.2  20026.9  19794.8  155090.0    0.16%\n",
              "1 2022-07-11  19963.2  20847.2  20855.0  19897.0  160200.0   -4.24%\n",
              "2 2022-07-10  20847.4  21587.4  21599.2  20689.7  204680.0   -3.43%\n",
              "3 2022-07-09  21587.5  21610.4  21944.1  21338.4  190110.0   -0.11%\n",
              "4 2022-07-08  21611.2  21637.1  22482.1  21207.0  439900.0   -0.12%"
            ],
            "text/html": [
              "\n",
              "  <div id=\"df-31fcd102-94b2-4e32-a1fa-2d34bc577b00\">\n",
              "    <div class=\"colab-df-container\">\n",
              "      <div>\n",
              "<style scoped>\n",
              "    .dataframe tbody tr th:only-of-type {\n",
              "        vertical-align: middle;\n",
              "    }\n",
              "\n",
              "    .dataframe tbody tr th {\n",
              "        vertical-align: top;\n",
              "    }\n",
              "\n",
              "    .dataframe thead th {\n",
              "        text-align: right;\n",
              "    }\n",
              "</style>\n",
              "<table border=\"1\" class=\"dataframe\">\n",
              "  <thead>\n",
              "    <tr style=\"text-align: right;\">\n",
              "      <th></th>\n",
              "      <th>Date</th>\n",
              "      <th>Price</th>\n",
              "      <th>Open</th>\n",
              "      <th>High</th>\n",
              "      <th>Low</th>\n",
              "      <th>Vol</th>\n",
              "      <th>Change %</th>\n",
              "    </tr>\n",
              "  </thead>\n",
              "  <tbody>\n",
              "    <tr>\n",
              "      <th>0</th>\n",
              "      <td>2022-07-12</td>\n",
              "      <td>19994.9</td>\n",
              "      <td>19963.2</td>\n",
              "      <td>20026.9</td>\n",
              "      <td>19794.8</td>\n",
              "      <td>155090.0</td>\n",
              "      <td>0.16%</td>\n",
              "    </tr>\n",
              "    <tr>\n",
              "      <th>1</th>\n",
              "      <td>2022-07-11</td>\n",
              "      <td>19963.2</td>\n",
              "      <td>20847.2</td>\n",
              "      <td>20855.0</td>\n",
              "      <td>19897.0</td>\n",
              "      <td>160200.0</td>\n",
              "      <td>-4.24%</td>\n",
              "    </tr>\n",
              "    <tr>\n",
              "      <th>2</th>\n",
              "      <td>2022-07-10</td>\n",
              "      <td>20847.4</td>\n",
              "      <td>21587.4</td>\n",
              "      <td>21599.2</td>\n",
              "      <td>20689.7</td>\n",
              "      <td>204680.0</td>\n",
              "      <td>-3.43%</td>\n",
              "    </tr>\n",
              "    <tr>\n",
              "      <th>3</th>\n",
              "      <td>2022-07-09</td>\n",
              "      <td>21587.5</td>\n",
              "      <td>21610.4</td>\n",
              "      <td>21944.1</td>\n",
              "      <td>21338.4</td>\n",
              "      <td>190110.0</td>\n",
              "      <td>-0.11%</td>\n",
              "    </tr>\n",
              "    <tr>\n",
              "      <th>4</th>\n",
              "      <td>2022-07-08</td>\n",
              "      <td>21611.2</td>\n",
              "      <td>21637.1</td>\n",
              "      <td>22482.1</td>\n",
              "      <td>21207.0</td>\n",
              "      <td>439900.0</td>\n",
              "      <td>-0.12%</td>\n",
              "    </tr>\n",
              "  </tbody>\n",
              "</table>\n",
              "</div>\n",
              "      <button class=\"colab-df-convert\" onclick=\"convertToInteractive('df-31fcd102-94b2-4e32-a1fa-2d34bc577b00')\"\n",
              "              title=\"Convert this dataframe to an interactive table.\"\n",
              "              style=\"display:none;\">\n",
              "        \n",
              "  <svg xmlns=\"http://www.w3.org/2000/svg\" height=\"24px\"viewBox=\"0 0 24 24\"\n",
              "       width=\"24px\">\n",
              "    <path d=\"M0 0h24v24H0V0z\" fill=\"none\"/>\n",
              "    <path d=\"M18.56 5.44l.94 2.06.94-2.06 2.06-.94-2.06-.94-.94-2.06-.94 2.06-2.06.94zm-11 1L8.5 8.5l.94-2.06 2.06-.94-2.06-.94L8.5 2.5l-.94 2.06-2.06.94zm10 10l.94 2.06.94-2.06 2.06-.94-2.06-.94-.94-2.06-.94 2.06-2.06.94z\"/><path d=\"M17.41 7.96l-1.37-1.37c-.4-.4-.92-.59-1.43-.59-.52 0-1.04.2-1.43.59L10.3 9.45l-7.72 7.72c-.78.78-.78 2.05 0 2.83L4 21.41c.39.39.9.59 1.41.59.51 0 1.02-.2 1.41-.59l7.78-7.78 2.81-2.81c.8-.78.8-2.07 0-2.86zM5.41 20L4 18.59l7.72-7.72 1.47 1.35L5.41 20z\"/>\n",
              "  </svg>\n",
              "      </button>\n",
              "      \n",
              "  <style>\n",
              "    .colab-df-container {\n",
              "      display:flex;\n",
              "      flex-wrap:wrap;\n",
              "      gap: 12px;\n",
              "    }\n",
              "\n",
              "    .colab-df-convert {\n",
              "      background-color: #E8F0FE;\n",
              "      border: none;\n",
              "      border-radius: 50%;\n",
              "      cursor: pointer;\n",
              "      display: none;\n",
              "      fill: #1967D2;\n",
              "      height: 32px;\n",
              "      padding: 0 0 0 0;\n",
              "      width: 32px;\n",
              "    }\n",
              "\n",
              "    .colab-df-convert:hover {\n",
              "      background-color: #E2EBFA;\n",
              "      box-shadow: 0px 1px 2px rgba(60, 64, 67, 0.3), 0px 1px 3px 1px rgba(60, 64, 67, 0.15);\n",
              "      fill: #174EA6;\n",
              "    }\n",
              "\n",
              "    [theme=dark] .colab-df-convert {\n",
              "      background-color: #3B4455;\n",
              "      fill: #D2E3FC;\n",
              "    }\n",
              "\n",
              "    [theme=dark] .colab-df-convert:hover {\n",
              "      background-color: #434B5C;\n",
              "      box-shadow: 0px 1px 3px 1px rgba(0, 0, 0, 0.15);\n",
              "      filter: drop-shadow(0px 1px 2px rgba(0, 0, 0, 0.3));\n",
              "      fill: #FFFFFF;\n",
              "    }\n",
              "  </style>\n",
              "\n",
              "      <script>\n",
              "        const buttonEl =\n",
              "          document.querySelector('#df-31fcd102-94b2-4e32-a1fa-2d34bc577b00 button.colab-df-convert');\n",
              "        buttonEl.style.display =\n",
              "          google.colab.kernel.accessAllowed ? 'block' : 'none';\n",
              "\n",
              "        async function convertToInteractive(key) {\n",
              "          const element = document.querySelector('#df-31fcd102-94b2-4e32-a1fa-2d34bc577b00');\n",
              "          const dataTable =\n",
              "            await google.colab.kernel.invokeFunction('convertToInteractive',\n",
              "                                                     [key], {});\n",
              "          if (!dataTable) return;\n",
              "\n",
              "          const docLinkHtml = 'Like what you see? Visit the ' +\n",
              "            '<a target=\"_blank\" href=https://colab.research.google.com/notebooks/data_table.ipynb>data table notebook</a>'\n",
              "            + ' to learn more about interactive tables.';\n",
              "          element.innerHTML = '';\n",
              "          dataTable['output_type'] = 'display_data';\n",
              "          await google.colab.output.renderOutput(dataTable, element);\n",
              "          const docLink = document.createElement('div');\n",
              "          docLink.innerHTML = docLinkHtml;\n",
              "          element.appendChild(docLink);\n",
              "        }\n",
              "      </script>\n",
              "    </div>\n",
              "  </div>\n",
              "  "
            ]
          },
          "metadata": {},
          "execution_count": 102
        }
      ]
    },
    {
      "cell_type": "markdown",
      "source": [
        "### Data Visualistion"
      ],
      "metadata": {
        "id": "UqtNvoiq2EEh"
      }
    },
    {
      "cell_type": "code",
      "source": [
        "y_data =df['Price']\n",
        "x_data = df['Date']\n",
        "graph_data = df[['Date','Price']]\n",
        "graph_data = graph_data.set_index('Date')  # Setting the Date as Index\n",
        "graph_data.sort_index(inplace=True)\n",
        "plt.figure(figsize=(10, 5))\n",
        "plt.plot(graph_data)\n",
        "plt.xlabel('Date', fontsize=12)\n",
        "plt.ylabel('Price in USD', fontsize=12)\n",
        "plt.title('Bitcoin Price Distribution', fontsize=15)\n",
        "plt.show()"
      ],
      "metadata": {
        "colab": {
          "base_uri": "https://localhost:8080/",
          "height": 355
        },
        "id": "qIv8ifsc0BA0",
        "outputId": "2aae7012-fa53-4509-dd90-003890ffed00"
      },
      "execution_count": null,
      "outputs": [
        {
          "output_type": "display_data",
          "data": {
            "text/plain": [
              "<Figure size 720x360 with 1 Axes>"
            ],
            "image/png": "[encoded data removed]"
          },
          "metadata": {
            "needs_background": "light"
          }
        }
      ]
    },
    {
      "cell_type": "markdown",
      "source": [
        "### Data Splitting"
      ],
      "metadata": {
        "id": "-nt31iqAq1OH"
      }
    },
    {
      "cell_type": "code",
      "source": [
        "X = df.iloc[:,[2,3,4,5]]         # defining X(features) and y(label)\n",
        "y = df.iloc[:, 1]\n",
        "# splitting X and y into training and testing sets\n",
        "X_train, X_test, y_train, y_test = train_test_split(X, y, test_size=0.20, random_state=0)"
      ],
      "metadata": {
        "id": "48VeAicA0-7i"
      },
      "execution_count": null,
      "outputs": []
    },
    {
      "cell_type": "code",
      "source": [
        "print(X_train.shape)\n",
        "print(X_test.shape)\n",
        "print(y_train.shape)\n",
        "print(y_test.shape)"
      ],
      "metadata": {
        "id": "UjqwRqHm17z0",
        "colab": {
          "base_uri": "https://localhost:8080/"
        },
        "outputId": "e158ede0-1681-440c-96bc-4cc9537fb6e1"
      },
      "execution_count": null,
      "outputs": [
        {
          "output_type": "stream",
          "name": "stdout",
          "text": [
            "(1169, 4)\n",
            "(293, 4)\n",
            "(1169,)\n",
            "(293,)\n"
          ]
        }
      ]
    },
    {
      "cell_type": "markdown",
      "source": [
        "### Validation"
      ],
      "metadata": {
        "id": "SvntDs7_G4Sl"
      }
    },
    {
      "cell_type": "code",
      "source": [
        "linear_reg_valid = LinearRegression()\n",
        "kf=KFold(n_splits=5)\n",
        "score=cross_val_score(linear_reg_valid,X_train,y_train,cv=kf)\n",
        "print(\"Cross Validation Scores are {}\".format(score))\n",
        "print(\"Average Cross Validation Score: {}\".format(score.mean()))"
      ],
      "metadata": {
        "colab": {
          "base_uri": "https://localhost:8080/"
        },
        "id": "H2_mCmSjUOMN",
        "outputId": "8591344a-cc29-48cf-a802-ee095c1d2a48"
      },
      "execution_count": null,
      "outputs": [
        {
          "output_type": "stream",
          "name": "stdout",
          "text": [
            "Cross Validation Scores are [0.99936932 0.99921838 0.99934881 0.99942336 0.99933868]\n",
            "Average Cross Validation Score: 0.9993397095100505\n"
          ]
        }
      ]
    },
    {
      "cell_type": "markdown",
      "source": [
        "### Prediction"
      ],
      "metadata": {
        "id": "cRntOR8SrP1N"
      }
    },
    {
      "cell_type": "code",
      "source": [
        "linear_reg = LinearRegression()\n",
        "linear_reg.fit(X_train, y_train)\n",
        "y_pred = linear_reg.predict(X_test)"
      ],
      "metadata": {
        "id": "rCoKQxkX19f7"
      },
      "execution_count": null,
      "outputs": []
    },
    {
      "cell_type": "code",
      "source": [
        "r2 = r2_score(y_test, y_pred)\n",
        "print('r2 Score-', r2)\n",
        "rmse = np.sqrt(mean_squared_error(y_test, y_pred))\n",
        "print('RMSE- ', rmse)"
      ],
      "metadata": {
        "id": "erIu7If4xKuC",
        "colab": {
          "base_uri": "https://localhost:8080/"
        },
        "outputId": "914580c4-075c-4b0f-b163-fe5837f1ba7c"
      },
      "execution_count": null,
      "outputs": [
        {
          "output_type": "stream",
          "name": "stdout",
          "text": [
            "r2 Score- 0.9993148277684576\n",
            "RMSE-  487.8520393994167\n"
          ]
        }
      ]
    },
    {
      "cell_type": "code",
      "source": [
        "plt.figure(figsize=(7, 7))\n",
        "ax = sns.regplot(x = y_test, y = y_pred, data=df, scatter_kws={'color': '#54C2CC'}, line_kws={'color': '#20525C'})\n",
        "ax.set(xlabel='Actual, US$', ylabel='Predicted, US$', title = 'Bitcoin Price: Predicted vs. Actual')\n",
        "plt.show()"
      ],
      "metadata": {
        "colab": {
          "base_uri": "https://localhost:8080/",
          "height": 458
        },
        "id": "26YUlkQkHOl0",
        "outputId": "2e14b3e2-3cbe-40f1-ca1e-6e902963ae9a"
      },
      "execution_count": null,
      "outputs": [
        {
          "output_type": "display_data",
          "data": {
            "text/plain": [
              "<Figure size 504x504 with 1 Axes>"
            ],
            "image/png": "[encoded data removed]"
          },
          "metadata": {
            "needs_background": "light"
          }
        }
      ]
    },
    {
      "cell_type": "markdown",
      "source": [
        "# Bitcoin Price Prediction\n",
        "Linear Regression (Open, Volume, NASDAQ Index Price and NFT Index Price)"
      ],
      "metadata": {
        "id": "DJqOHVMR3aPl"
      }
    },
    {
      "cell_type": "markdown",
      "source": [
        "### Loading dataset"
      ],
      "metadata": {
        "id": "a8x6Stfm3Qjp"
      }
    },
    {
      "cell_type": "code",
      "source": [
        "df_nasdaq = pd.read_csv(\"/content/drive/MyDrive/Datasets/Nasdaq Index Historical Data.csv\")\n",
        "df_nft = pd.read_csv(\"/content/drive/MyDrive/Datasets/NFT Index Historical Data.csv\")\n"
      ],
      "metadata": {
        "id": "ddrVuNkzsxkq"
      },
      "execution_count": null,
      "outputs": []
    },
    {
      "cell_type": "markdown",
      "source": [
        "### Data Processing"
      ],
      "metadata": {
        "id": "dR56tCVP3dR-"
      }
    },
    {
      "cell_type": "code",
      "source": [
        "df_nasdaq.head()"
      ],
      "metadata": {
        "colab": {
          "base_uri": "https://localhost:8080/",
          "height": 206
        },
        "id": "cPJR5Hbi1QT_",
        "outputId": "9bef5287-dbd8-4faa-a619-6b2d2391ac3e"
      },
      "execution_count": null,
      "outputs": [
        {
          "output_type": "execute_result",
          "data": {
            "text/plain": [
              "         Date          Open          High           Low         Close  \\\n",
              "0  2021-07-13  14715.129883  14803.679688  14660.190430  14677.650391   \n",
              "1  2021-07-14  14780.900391  14790.549805  14632.950195  14644.950195   \n",
              "2  2021-07-15  14635.780273  14650.370117  14451.799805  14543.129883   \n",
              "3  2021-07-16  14597.509766  14623.019531  14413.320313  14427.240234   \n",
              "4  2021-07-19  14235.980469  14313.599609  14178.660156  14274.980469   \n",
              "\n",
              "      Adj Close      Volume  \n",
              "0  14677.650391  4553380000  \n",
              "1  14644.950195  4461730000  \n",
              "2  14543.129883  4493540000  \n",
              "3  14427.240234  4048940000  \n",
              "4  14274.980469  4507040000  "
            ],
            "text/html": [
              "\n",
              "  <div id=\"df-713009ed-2e18-41b4-a6ab-3b3142ee9b7c\">\n",
              "    <div class=\"colab-df-container\">\n",
              "      <div>\n",
              "<style scoped>\n",
              "    .dataframe tbody tr th:only-of-type {\n",
              "        vertical-align: middle;\n",
              "    }\n",
              "\n",
              "    .dataframe tbody tr th {\n",
              "        vertical-align: top;\n",
              "    }\n",
              "\n",
              "    .dataframe thead th {\n",
              "        text-align: right;\n",
              "    }\n",
              "</style>\n",
              "<table border=\"1\" class=\"dataframe\">\n",
              "  <thead>\n",
              "    <tr style=\"text-align: right;\">\n",
              "      <th></th>\n",
              "      <th>Date</th>\n",
              "      <th>Open</th>\n",
              "      <th>High</th>\n",
              "      <th>Low</th>\n",
              "      <th>Close</th>\n",
              "      <th>Adj Close</th>\n",
              "      <th>Volume</th>\n",
              "    </tr>\n",
              "  </thead>\n",
              "  <tbody>\n",
              "    <tr>\n",
              "      <th>0</th>\n",
              "      <td>2021-07-13</td>\n",
              "      <td>14715.129883</td>\n",
              "      <td>14803.679688</td>\n",
              "      <td>14660.190430</td>\n",
              "      <td>14677.650391</td>\n",
              "      <td>14677.650391</td>\n",
              "      <td>4553380000</td>\n",
              "    </tr>\n",
              "    <tr>\n",
              "      <th>1</th>\n",
              "      <td>2021-07-14</td>\n",
              "      <td>14780.900391</td>\n",
              "      <td>14790.549805</td>\n",
              "      <td>14632.950195</td>\n",
              "      <td>14644.950195</td>\n",
              "      <td>14644.950195</td>\n",
              "      <td>4461730000</td>\n",
              "    </tr>\n",
              "    <tr>\n",
              "      <th>2</th>\n",
              "      <td>2021-07-15</td>\n",
              "      <td>14635.780273</td>\n",
              "      <td>14650.370117</td>\n",
              "      <td>14451.799805</td>\n",
              "      <td>14543.129883</td>\n",
              "      <td>14543.129883</td>\n",
              "      <td>4493540000</td>\n",
              "    </tr>\n",
              "    <tr>\n",
              "      <th>3</th>\n",
              "      <td>2021-07-16</td>\n",
              "      <td>14597.509766</td>\n",
              "      <td>14623.019531</td>\n",
              "      <td>14413.320313</td>\n",
              "      <td>14427.240234</td>\n",
              "      <td>14427.240234</td>\n",
              "      <td>4048940000</td>\n",
              "    </tr>\n",
              "    <tr>\n",
              "      <th>4</th>\n",
              "      <td>2021-07-19</td>\n",
              "      <td>14235.980469</td>\n",
              "      <td>14313.599609</td>\n",
              "      <td>14178.660156</td>\n",
              "      <td>14274.980469</td>\n",
              "      <td>14274.980469</td>\n",
              "      <td>4507040000</td>\n",
              "    </tr>\n",
              "  </tbody>\n",
              "</table>\n",
              "</div>\n",
              "      <button class=\"colab-df-convert\" onclick=\"convertToInteractive('df-713009ed-2e18-41b4-a6ab-3b3142ee9b7c')\"\n",
              "              title=\"Convert this dataframe to an interactive table.\"\n",
              "              style=\"display:none;\">\n",
              "        \n",
              "  <svg xmlns=\"http://www.w3.org/2000/svg\" height=\"24px\"viewBox=\"0 0 24 24\"\n",
              "       width=\"24px\">\n",
              "    <path d=\"M0 0h24v24H0V0z\" fill=\"none\"/>\n",
              "    <path d=\"M18.56 5.44l.94 2.06.94-2.06 2.06-.94-2.06-.94-.94-2.06-.94 2.06-2.06.94zm-11 1L8.5 8.5l.94-2.06 2.06-.94-2.06-.94L8.5 2.5l-.94 2.06-2.06.94zm10 10l.94 2.06.94-2.06 2.06-.94-2.06-.94-.94-2.06-.94 2.06-2.06.94z\"/><path d=\"M17.41 7.96l-1.37-1.37c-.4-.4-.92-.59-1.43-.59-.52 0-1.04.2-1.43.59L10.3 9.45l-7.72 7.72c-.78.78-.78 2.05 0 2.83L4 21.41c.39.39.9.59 1.41.59.51 0 1.02-.2 1.41-.59l7.78-7.78 2.81-2.81c.8-.78.8-2.07 0-2.86zM5.41 20L4 18.59l7.72-7.72 1.47 1.35L5.41 20z\"/>\n",
              "  </svg>\n",
              "      </button>\n",
              "      \n",
              "  <style>\n",
              "    .colab-df-container {\n",
              "      display:flex;\n",
              "      flex-wrap:wrap;\n",
              "      gap: 12px;\n",
              "    }\n",
              "\n",
              "    .colab-df-convert {\n",
              "      background-color: #E8F0FE;\n",
              "      border: none;\n",
              "      border-radius: 50%;\n",
              "      cursor: pointer;\n",
              "      display: none;\n",
              "      fill: #1967D2;\n",
              "      height: 32px;\n",
              "      padding: 0 0 0 0;\n",
              "      width: 32px;\n",
              "    }\n",
              "\n",
              "    .colab-df-convert:hover {\n",
              "      background-color: #E2EBFA;\n",
              "      box-shadow: 0px 1px 2px rgba(60, 64, 67, 0.3), 0px 1px 3px 1px rgba(60, 64, 67, 0.15);\n",
              "      fill: #174EA6;\n",
              "    }\n",
              "\n",
              "    [theme=dark] .colab-df-convert {\n",
              "      background-color: #3B4455;\n",
              "      fill: #D2E3FC;\n",
              "    }\n",
              "\n",
              "    [theme=dark] .colab-df-convert:hover {\n",
              "      background-color: #434B5C;\n",
              "      box-shadow: 0px 1px 3px 1px rgba(0, 0, 0, 0.15);\n",
              "      filter: drop-shadow(0px 1px 2px rgba(0, 0, 0, 0.3));\n",
              "      fill: #FFFFFF;\n",
              "    }\n",
              "  </style>\n",
              "\n",
              "      <script>\n",
              "        const buttonEl =\n",
              "          document.querySelector('#df-713009ed-2e18-41b4-a6ab-3b3142ee9b7c button.colab-df-convert');\n",
              "        buttonEl.style.display =\n",
              "          google.colab.kernel.accessAllowed ? 'block' : 'none';\n",
              "\n",
              "        async function convertToInteractive(key) {\n",
              "          const element = document.querySelector('#df-713009ed-2e18-41b4-a6ab-3b3142ee9b7c');\n",
              "          const dataTable =\n",
              "            await google.colab.kernel.invokeFunction('convertToInteractive',\n",
              "                                                     [key], {});\n",
              "          if (!dataTable) return;\n",
              "\n",
              "          const docLinkHtml = 'Like what you see? Visit the ' +\n",
              "            '<a target=\"_blank\" href=https://colab.research.google.com/notebooks/data_table.ipynb>data table notebook</a>'\n",
              "            + ' to learn more about interactive tables.';\n",
              "          element.innerHTML = '';\n",
              "          dataTable['output_type'] = 'display_data';\n",
              "          await google.colab.output.renderOutput(dataTable, element);\n",
              "          const docLink = document.createElement('div');\n",
              "          docLink.innerHTML = docLinkHtml;\n",
              "          element.appendChild(docLink);\n",
              "        }\n",
              "      </script>\n",
              "    </div>\n",
              "  </div>\n",
              "  "
            ]
          },
          "metadata": {},
          "execution_count": 111
        }
      ]
    },
    {
      "cell_type": "code",
      "source": [
        "df_nft.head()"
      ],
      "metadata": {
        "colab": {
          "base_uri": "https://localhost:8080/",
          "height": 206
        },
        "id": "62tWOSwh1U5f",
        "outputId": "1b830f8b-5aa4-4009-b539-133fccb2089e"
      },
      "execution_count": null,
      "outputs": [
        {
          "output_type": "execute_result",
          "data": {
            "text/plain": [
              "         Date        Open        High         Low       Close   Adj Close  \\\n",
              "0  2021-07-13  623.343201  650.161438  601.914978  635.768860  635.768860   \n",
              "1  2021-07-14  636.335083  704.484375  614.385986  699.971436  699.971436   \n",
              "2  2021-07-15  700.016846  750.534363  665.987793  668.401733  668.401733   \n",
              "3  2021-07-16  668.019226  682.566223  618.702942  620.450928  620.450928   \n",
              "4  2021-07-17  620.032288  624.419556  559.951355  585.281433  585.281433   \n",
              "\n",
              "    Volume  \n",
              "0  20016.0  \n",
              "1  12462.0  \n",
              "2  10994.0  \n",
              "3   3717.0  \n",
              "4  14773.0  "
            ],
            "text/html": [
              "\n",
              "  <div id=\"df-b4688327-e392-4144-b5ce-1dc5456fb5c4\">\n",
              "    <div class=\"colab-df-container\">\n",
              "      <div>\n",
              "<style scoped>\n",
              "    .dataframe tbody tr th:only-of-type {\n",
              "        vertical-align: middle;\n",
              "    }\n",
              "\n",
              "    .dataframe tbody tr th {\n",
              "        vertical-align: top;\n",
              "    }\n",
              "\n",
              "    .dataframe thead th {\n",
              "        text-align: right;\n",
              "    }\n",
              "</style>\n",
              "<table border=\"1\" class=\"dataframe\">\n",
              "  <thead>\n",
              "    <tr style=\"text-align: right;\">\n",
              "      <th></th>\n",
              "      <th>Date</th>\n",
              "      <th>Open</th>\n",
              "      <th>High</th>\n",
              "      <th>Low</th>\n",
              "      <th>Close</th>\n",
              "      <th>Adj Close</th>\n",
              "      <th>Volume</th>\n",
              "    </tr>\n",
              "  </thead>\n",
              "  <tbody>\n",
              "    <tr>\n",
              "      <th>0</th>\n",
              "      <td>2021-07-13</td>\n",
              "      <td>623.343201</td>\n",
              "      <td>650.161438</td>\n",
              "      <td>601.914978</td>\n",
              "      <td>635.768860</td>\n",
              "      <td>635.768860</td>\n",
              "      <td>20016.0</td>\n",
              "    </tr>\n",
              "    <tr>\n",
              "      <th>1</th>\n",
              "      <td>2021-07-14</td>\n",
              "      <td>636.335083</td>\n",
              "      <td>704.484375</td>\n",
              "      <td>614.385986</td>\n",
              "      <td>699.971436</td>\n",
              "      <td>699.971436</td>\n",
              "      <td>12462.0</td>\n",
              "    </tr>\n",
              "    <tr>\n",
              "      <th>2</th>\n",
              "      <td>2021-07-15</td>\n",
              "      <td>700.016846</td>\n",
              "      <td>750.534363</td>\n",
              "      <td>665.987793</td>\n",
              "      <td>668.401733</td>\n",
              "      <td>668.401733</td>\n",
              "      <td>10994.0</td>\n",
              "    </tr>\n",
              "    <tr>\n",
              "      <th>3</th>\n",
              "      <td>2021-07-16</td>\n",
              "      <td>668.019226</td>\n",
              "      <td>682.566223</td>\n",
              "      <td>618.702942</td>\n",
              "      <td>620.450928</td>\n",
              "      <td>620.450928</td>\n",
              "      <td>3717.0</td>\n",
              "    </tr>\n",
              "    <tr>\n",
              "      <th>4</th>\n",
              "      <td>2021-07-17</td>\n",
              "      <td>620.032288</td>\n",
              "      <td>624.419556</td>\n",
              "      <td>559.951355</td>\n",
              "      <td>585.281433</td>\n",
              "      <td>585.281433</td>\n",
              "      <td>14773.0</td>\n",
              "    </tr>\n",
              "  </tbody>\n",
              "</table>\n",
              "</div>\n",
              "      <button class=\"colab-df-convert\" onclick=\"convertToInteractive('df-b4688327-e392-4144-b5ce-1dc5456fb5c4')\"\n",
              "              title=\"Convert this dataframe to an interactive table.\"\n",
              "              style=\"display:none;\">\n",
              "        \n",
              "  <svg xmlns=\"http://www.w3.org/2000/svg\" height=\"24px\"viewBox=\"0 0 24 24\"\n",
              "       width=\"24px\">\n",
              "    <path d=\"M0 0h24v24H0V0z\" fill=\"none\"/>\n",
              "    <path d=\"M18.56 5.44l.94 2.06.94-2.06 2.06-.94-2.06-.94-.94-2.06-.94 2.06-2.06.94zm-11 1L8.5 8.5l.94-2.06 2.06-.94-2.06-.94L8.5 2.5l-.94 2.06-2.06.94zm10 10l.94 2.06.94-2.06 2.06-.94-2.06-.94-.94-2.06-.94 2.06-2.06.94z\"/><path d=\"M17.41 7.96l-1.37-1.37c-.4-.4-.92-.59-1.43-.59-.52 0-1.04.2-1.43.59L10.3 9.45l-7.72 7.72c-.78.78-.78 2.05 0 2.83L4 21.41c.39.39.9.59 1.41.59.51 0 1.02-.2 1.41-.59l7.78-7.78 2.81-2.81c.8-.78.8-2.07 0-2.86zM5.41 20L4 18.59l7.72-7.72 1.47 1.35L5.41 20z\"/>\n",
              "  </svg>\n",
              "      </button>\n",
              "      \n",
              "  <style>\n",
              "    .colab-df-container {\n",
              "      display:flex;\n",
              "      flex-wrap:wrap;\n",
              "      gap: 12px;\n",
              "    }\n",
              "\n",
              "    .colab-df-convert {\n",
              "      background-color: #E8F0FE;\n",
              "      border: none;\n",
              "      border-radius: 50%;\n",
              "      cursor: pointer;\n",
              "      display: none;\n",
              "      fill: #1967D2;\n",
              "      height: 32px;\n",
              "      padding: 0 0 0 0;\n",
              "      width: 32px;\n",
              "    }\n",
              "\n",
              "    .colab-df-convert:hover {\n",
              "      background-color: #E2EBFA;\n",
              "      box-shadow: 0px 1px 2px rgba(60, 64, 67, 0.3), 0px 1px 3px 1px rgba(60, 64, 67, 0.15);\n",
              "      fill: #174EA6;\n",
              "    }\n",
              "\n",
              "    [theme=dark] .colab-df-convert {\n",
              "      background-color: #3B4455;\n",
              "      fill: #D2E3FC;\n",
              "    }\n",
              "\n",
              "    [theme=dark] .colab-df-convert:hover {\n",
              "      background-color: #434B5C;\n",
              "      box-shadow: 0px 1px 3px 1px rgba(0, 0, 0, 0.15);\n",
              "      filter: drop-shadow(0px 1px 2px rgba(0, 0, 0, 0.3));\n",
              "      fill: #FFFFFF;\n",
              "    }\n",
              "  </style>\n",
              "\n",
              "      <script>\n",
              "        const buttonEl =\n",
              "          document.querySelector('#df-b4688327-e392-4144-b5ce-1dc5456fb5c4 button.colab-df-convert');\n",
              "        buttonEl.style.display =\n",
              "          google.colab.kernel.accessAllowed ? 'block' : 'none';\n",
              "\n",
              "        async function convertToInteractive(key) {\n",
              "          const element = document.querySelector('#df-b4688327-e392-4144-b5ce-1dc5456fb5c4');\n",
              "          const dataTable =\n",
              "            await google.colab.kernel.invokeFunction('convertToInteractive',\n",
              "                                                     [key], {});\n",
              "          if (!dataTable) return;\n",
              "\n",
              "          const docLinkHtml = 'Like what you see? Visit the ' +\n",
              "            '<a target=\"_blank\" href=https://colab.research.google.com/notebooks/data_table.ipynb>data table notebook</a>'\n",
              "            + ' to learn more about interactive tables.';\n",
              "          element.innerHTML = '';\n",
              "          dataTable['output_type'] = 'display_data';\n",
              "          await google.colab.output.renderOutput(dataTable, element);\n",
              "          const docLink = document.createElement('div');\n",
              "          docLink.innerHTML = docLinkHtml;\n",
              "          element.appendChild(docLink);\n",
              "        }\n",
              "      </script>\n",
              "    </div>\n",
              "  </div>\n",
              "  "
            ]
          },
          "metadata": {},
          "execution_count": 112
        }
      ]
    },
    {
      "cell_type": "code",
      "source": [
        "print(\"Shape \", df_nasdaq.shape)\n",
        "print(\"______________________________________\")\n",
        "print(\"Describe \", df_nasdaq.describe())\n",
        "print(\"______________________________________\")\n",
        "print(\"Info \", df_nasdaq.info())"
      ],
      "metadata": {
        "colab": {
          "base_uri": "https://localhost:8080/"
        },
        "id": "50HG8wTuBoeO",
        "outputId": "3b6499bc-d82e-4b09-d682-252072d083f6"
      },
      "execution_count": null,
      "outputs": [
        {
          "output_type": "stream",
          "name": "stdout",
          "text": [
            "Shape  (252, 7)\n",
            "______________________________________\n",
            "Describe                 Open          High           Low         Close     Adj Close  \\\n",
            "count    252.000000    252.000000    252.000000    252.000000    252.000000   \n",
            "mean   14042.259115  14159.102462  13901.178781  14032.271729  14032.271729   \n",
            "std     1447.080842   1417.385319   1467.981671   1445.934360   1445.934360   \n",
            "min    10697.549805  10831.070313  10565.139648  10646.099609  10646.099609   \n",
            "25%    13291.772705  13433.657471  13022.177490  13235.324952  13235.324952   \n",
            "50%    14522.959961  14616.889649  14416.360352  14500.395019  14500.395019   \n",
            "75%    15141.052246  15207.985108  15012.442627  15123.532227  15123.532227   \n",
            "max    16120.919922  16212.230469  16017.230469  16057.440430  16057.440430   \n",
            "\n",
            "             Volume  \n",
            "count  2.520000e+02  \n",
            "mean   4.856040e+09  \n",
            "std    8.297731e+08  \n",
            "min    3.379850e+09  \n",
            "25%    4.272835e+09  \n",
            "50%    4.716250e+09  \n",
            "75%    5.281698e+09  \n",
            "max    9.438810e+09  \n",
            "______________________________________\n",
            "<class 'pandas.core.frame.DataFrame'>\n",
            "RangeIndex: 252 entries, 0 to 251\n",
            "Data columns (total 7 columns):\n",
            " #   Column     Non-Null Count  Dtype  \n",
            "---  ------     --------------  -----  \n",
            " 0   Date       252 non-null    object \n",
            " 1   Open       252 non-null    float64\n",
            " 2   High       252 non-null    float64\n",
            " 3   Low        252 non-null    float64\n",
            " 4   Close      252 non-null    float64\n",
            " 5   Adj Close  252 non-null    float64\n",
            " 6   Volume     252 non-null    int64  \n",
            "dtypes: float64(5), int64(1), object(1)\n",
            "memory usage: 13.9+ KB\n",
            "Info  None\n"
          ]
        }
      ]
    },
    {
      "cell_type": "code",
      "source": [
        "df_nasdaq.Date = pd.to_datetime(df_nasdaq.Date)\n",
        "df_nft.Date = pd.to_datetime(df_nft.Date)"
      ],
      "metadata": {
        "id": "l31pkgYAzVuL"
      },
      "execution_count": null,
      "outputs": []
    },
    {
      "cell_type": "code",
      "source": [
        "# Selecting the date range\n",
        "\n",
        "start_date = '12-Jul-2021'\n",
        "end_date = '11-Jul-2022'\n",
        "\n",
        "data_bitcoin = df.loc[df['Date'] >= start_date].copy()\n",
        "data_bitcoin = data_bitcoin.loc[data_bitcoin['Date'] <= end_date]\n",
        "data_nasdaq = df_nasdaq.loc[df_nasdaq['Date'] >= start_date].copy()\n",
        "data_nasdaq = data_nasdaq.loc[data_nasdaq['Date'] <= end_date]\n",
        "data_nft = df_nft.loc[df_nft['Date'] >= start_date].copy()\n",
        "data_nft = data_nft.loc[data_nft['Date'] <= end_date]\n",
        "\n",
        "print(data_nasdaq.head())\n",
        "print(data_nft.head())"
      ],
      "metadata": {
        "id": "bkntD5rBs-jG",
        "colab": {
          "base_uri": "https://localhost:8080/"
        },
        "outputId": "65c8a93e-b919-4f9a-a121-065efbe150f1"
      },
      "execution_count": null,
      "outputs": [
        {
          "output_type": "stream",
          "name": "stdout",
          "text": [
            "        Date          Open          High           Low         Close  \\\n",
            "0 2021-07-13  14715.129883  14803.679688  14660.190430  14677.650391   \n",
            "1 2021-07-14  14780.900391  14790.549805  14632.950195  14644.950195   \n",
            "2 2021-07-15  14635.780273  14650.370117  14451.799805  14543.129883   \n",
            "3 2021-07-16  14597.509766  14623.019531  14413.320313  14427.240234   \n",
            "4 2021-07-19  14235.980469  14313.599609  14178.660156  14274.980469   \n",
            "\n",
            "      Adj Close      Volume  \n",
            "0  14677.650391  4553380000  \n",
            "1  14644.950195  4461730000  \n",
            "2  14543.129883  4493540000  \n",
            "3  14427.240234  4048940000  \n",
            "4  14274.980469  4507040000  \n",
            "        Date        Open        High         Low       Close   Adj Close  \\\n",
            "0 2021-07-13  623.343201  650.161438  601.914978  635.768860  635.768860   \n",
            "1 2021-07-14  636.335083  704.484375  614.385986  699.971436  699.971436   \n",
            "2 2021-07-15  700.016846  750.534363  665.987793  668.401733  668.401733   \n",
            "3 2021-07-16  668.019226  682.566223  618.702942  620.450928  620.450928   \n",
            "4 2021-07-17  620.032288  624.419556  559.951355  585.281433  585.281433   \n",
            "\n",
            "    Volume  \n",
            "0  20016.0  \n",
            "1  12462.0  \n",
            "2  10994.0  \n",
            "3   3717.0  \n",
            "4  14773.0  \n"
          ]
        }
      ]
    },
    {
      "cell_type": "code",
      "source": [
        "# Adding to new dataset\n",
        "\n",
        "df_bitcoin = data_bitcoin\n",
        "df_bitcoin['Nasdaq Index'] = data_nasdaq['Close']\n",
        "df_bitcoin['NFT Index'] = data_nft['Close']"
      ],
      "metadata": {
        "id": "p1X-oKEj0DEF"
      },
      "execution_count": null,
      "outputs": []
    },
    {
      "cell_type": "code",
      "source": [
        "df_bitcoin.head()"
      ],
      "metadata": {
        "id": "R9oX8i8Y2Ugl",
        "colab": {
          "base_uri": "https://localhost:8080/",
          "height": 206
        },
        "outputId": "6a635f46-8c14-4315-86ba-1df69610f5ab"
      },
      "execution_count": null,
      "outputs": [
        {
          "output_type": "execute_result",
          "data": {
            "text/plain": [
              "        Date    Price     Open     High      Low       Vol Change %  \\\n",
              "1 2022-07-11  19963.2  20847.2  20855.0  19897.0  160200.0   -4.24%   \n",
              "2 2022-07-10  20847.4  21587.4  21599.2  20689.7  204680.0   -3.43%   \n",
              "3 2022-07-09  21587.5  21610.4  21944.1  21338.4  190110.0   -0.11%   \n",
              "4 2022-07-08  21611.2  21637.1  22482.1  21207.0  439900.0   -0.12%   \n",
              "5 2022-07-07  21637.8  20557.9  21817.8  20282.7  115810.0    5.24%   \n",
              "\n",
              "   Nasdaq Index   NFT Index  \n",
              "1  14644.950195  699.971436  \n",
              "2  14543.129883  668.401733  \n",
              "3  14427.240234  620.450928  \n",
              "4  14274.980469  585.281433  \n",
              "5  14498.879883  588.493835  "
            ],
            "text/html": [
              "\n",
              "  <div id=\"df-5e86b45b-4f98-4458-ba34-470379ad7455\">\n",
              "    <div class=\"colab-df-container\">\n",
              "      <div>\n",
              "<style scoped>\n",
              "    .dataframe tbody tr th:only-of-type {\n",
              "        vertical-align: middle;\n",
              "    }\n",
              "\n",
              "    .dataframe tbody tr th {\n",
              "        vertical-align: top;\n",
              "    }\n",
              "\n",
              "    .dataframe thead th {\n",
              "        text-align: right;\n",
              "    }\n",
              "</style>\n",
              "<table border=\"1\" class=\"dataframe\">\n",
              "  <thead>\n",
              "    <tr style=\"text-align: right;\">\n",
              "      <th></th>\n",
              "      <th>Date</th>\n",
              "      <th>Price</th>\n",
              "      <th>Open</th>\n",
              "      <th>High</th>\n",
              "      <th>Low</th>\n",
              "      <th>Vol</th>\n",
              "      <th>Change %</th>\n",
              "      <th>Nasdaq Index</th>\n",
              "      <th>NFT Index</th>\n",
              "    </tr>\n",
              "  </thead>\n",
              "  <tbody>\n",
              "    <tr>\n",
              "      <th>1</th>\n",
              "      <td>2022-07-11</td>\n",
              "      <td>19963.2</td>\n",
              "      <td>20847.2</td>\n",
              "      <td>20855.0</td>\n",
              "      <td>19897.0</td>\n",
              "      <td>160200.0</td>\n",
              "      <td>-4.24%</td>\n",
              "      <td>14644.950195</td>\n",
              "      <td>699.971436</td>\n",
              "    </tr>\n",
              "    <tr>\n",
              "      <th>2</th>\n",
              "      <td>2022-07-10</td>\n",
              "      <td>20847.4</td>\n",
              "      <td>21587.4</td>\n",
              "      <td>21599.2</td>\n",
              "      <td>20689.7</td>\n",
              "      <td>204680.0</td>\n",
              "      <td>-3.43%</td>\n",
              "      <td>14543.129883</td>\n",
              "      <td>668.401733</td>\n",
              "    </tr>\n",
              "    <tr>\n",
              "      <th>3</th>\n",
              "      <td>2022-07-09</td>\n",
              "      <td>21587.5</td>\n",
              "      <td>21610.4</td>\n",
              "      <td>21944.1</td>\n",
              "      <td>21338.4</td>\n",
              "      <td>190110.0</td>\n",
              "      <td>-0.11%</td>\n",
              "      <td>14427.240234</td>\n",
              "      <td>620.450928</td>\n",
              "    </tr>\n",
              "    <tr>\n",
              "      <th>4</th>\n",
              "      <td>2022-07-08</td>\n",
              "      <td>21611.2</td>\n",
              "      <td>21637.1</td>\n",
              "      <td>22482.1</td>\n",
              "      <td>21207.0</td>\n",
              "      <td>439900.0</td>\n",
              "      <td>-0.12%</td>\n",
              "      <td>14274.980469</td>\n",
              "      <td>585.281433</td>\n",
              "    </tr>\n",
              "    <tr>\n",
              "      <th>5</th>\n",
              "      <td>2022-07-07</td>\n",
              "      <td>21637.8</td>\n",
              "      <td>20557.9</td>\n",
              "      <td>21817.8</td>\n",
              "      <td>20282.7</td>\n",
              "      <td>115810.0</td>\n",
              "      <td>5.24%</td>\n",
              "      <td>14498.879883</td>\n",
              "      <td>588.493835</td>\n",
              "    </tr>\n",
              "  </tbody>\n",
              "</table>\n",
              "</div>\n",
              "      <button class=\"colab-df-convert\" onclick=\"convertToInteractive('df-5e86b45b-4f98-4458-ba34-470379ad7455')\"\n",
              "              title=\"Convert this dataframe to an interactive table.\"\n",
              "              style=\"display:none;\">\n",
              "        \n",
              "  <svg xmlns=\"http://www.w3.org/2000/svg\" height=\"24px\"viewBox=\"0 0 24 24\"\n",
              "       width=\"24px\">\n",
              "    <path d=\"M0 0h24v24H0V0z\" fill=\"none\"/>\n",
              "    <path d=\"M18.56 5.44l.94 2.06.94-2.06 2.06-.94-2.06-.94-.94-2.06-.94 2.06-2.06.94zm-11 1L8.5 8.5l.94-2.06 2.06-.94-2.06-.94L8.5 2.5l-.94 2.06-2.06.94zm10 10l.94 2.06.94-2.06 2.06-.94-2.06-.94-.94-2.06-.94 2.06-2.06.94z\"/><path d=\"M17.41 7.96l-1.37-1.37c-.4-.4-.92-.59-1.43-.59-.52 0-1.04.2-1.43.59L10.3 9.45l-7.72 7.72c-.78.78-.78 2.05 0 2.83L4 21.41c.39.39.9.59 1.41.59.51 0 1.02-.2 1.41-.59l7.78-7.78 2.81-2.81c.8-.78.8-2.07 0-2.86zM5.41 20L4 18.59l7.72-7.72 1.47 1.35L5.41 20z\"/>\n",
              "  </svg>\n",
              "      </button>\n",
              "      \n",
              "  <style>\n",
              "    .colab-df-container {\n",
              "      display:flex;\n",
              "      flex-wrap:wrap;\n",
              "      gap: 12px;\n",
              "    }\n",
              "\n",
              "    .colab-df-convert {\n",
              "      background-color: #E8F0FE;\n",
              "      border: none;\n",
              "      border-radius: 50%;\n",
              "      cursor: pointer;\n",
              "      display: none;\n",
              "      fill: #1967D2;\n",
              "      height: 32px;\n",
              "      padding: 0 0 0 0;\n",
              "      width: 32px;\n",
              "    }\n",
              "\n",
              "    .colab-df-convert:hover {\n",
              "      background-color: #E2EBFA;\n",
              "      box-shadow: 0px 1px 2px rgba(60, 64, 67, 0.3), 0px 1px 3px 1px rgba(60, 64, 67, 0.15);\n",
              "      fill: #174EA6;\n",
              "    }\n",
              "\n",
              "    [theme=dark] .colab-df-convert {\n",
              "      background-color: #3B4455;\n",
              "      fill: #D2E3FC;\n",
              "    }\n",
              "\n",
              "    [theme=dark] .colab-df-convert:hover {\n",
              "      background-color: #434B5C;\n",
              "      box-shadow: 0px 1px 3px 1px rgba(0, 0, 0, 0.15);\n",
              "      filter: drop-shadow(0px 1px 2px rgba(0, 0, 0, 0.3));\n",
              "      fill: #FFFFFF;\n",
              "    }\n",
              "  </style>\n",
              "\n",
              "      <script>\n",
              "        const buttonEl =\n",
              "          document.querySelector('#df-5e86b45b-4f98-4458-ba34-470379ad7455 button.colab-df-convert');\n",
              "        buttonEl.style.display =\n",
              "          google.colab.kernel.accessAllowed ? 'block' : 'none';\n",
              "\n",
              "        async function convertToInteractive(key) {\n",
              "          const element = document.querySelector('#df-5e86b45b-4f98-4458-ba34-470379ad7455');\n",
              "          const dataTable =\n",
              "            await google.colab.kernel.invokeFunction('convertToInteractive',\n",
              "                                                     [key], {});\n",
              "          if (!dataTable) return;\n",
              "\n",
              "          const docLinkHtml = 'Like what you see? Visit the ' +\n",
              "            '<a target=\"_blank\" href=https://colab.research.google.com/notebooks/data_table.ipynb>data table notebook</a>'\n",
              "            + ' to learn more about interactive tables.';\n",
              "          element.innerHTML = '';\n",
              "          dataTable['output_type'] = 'display_data';\n",
              "          await google.colab.output.renderOutput(dataTable, element);\n",
              "          const docLink = document.createElement('div');\n",
              "          docLink.innerHTML = docLinkHtml;\n",
              "          element.appendChild(docLink);\n",
              "        }\n",
              "      </script>\n",
              "    </div>\n",
              "  </div>\n",
              "  "
            ]
          },
          "metadata": {},
          "execution_count": 117
        }
      ]
    },
    {
      "cell_type": "code",
      "source": [
        "# Checking for missing values\n",
        "\n",
        "total = df_bitcoin.isnull().sum().sort_values(ascending=False)\n",
        "percent = (df_bitcoin.isnull().sum()/df_bitcoin.isnull().count()).sort_values(ascending=False)\n",
        "missing_data = pd.concat([total, percent], axis=1, keys=['Total', 'Percent'])\n",
        "print(missing_data)"
      ],
      "metadata": {
        "id": "CKtoEbUt3hGK",
        "colab": {
          "base_uri": "https://localhost:8080/"
        },
        "outputId": "1f00cc4c-3360-415b-c626-688cfd5d7954"
      },
      "execution_count": null,
      "outputs": [
        {
          "output_type": "stream",
          "name": "stdout",
          "text": [
            "              Total   Percent\n",
            "Nasdaq Index    115  0.315068\n",
            "NFT Index         2  0.005479\n",
            "Date              0  0.000000\n",
            "Price             0  0.000000\n",
            "Open              0  0.000000\n",
            "High              0  0.000000\n",
            "Low               0  0.000000\n",
            "Vol               0  0.000000\n",
            "Change %          0  0.000000\n"
          ]
        }
      ]
    },
    {
      "cell_type": "code",
      "source": [
        "df_bitcoin = df_bitcoin.dropna()    # dropping missing values"
      ],
      "metadata": {
        "id": "SB3RWUWf3mIp"
      },
      "execution_count": null,
      "outputs": []
    },
    {
      "cell_type": "code",
      "source": [
        "df_bitcoin.head()"
      ],
      "metadata": {
        "id": "KGsZNato8Gpi",
        "colab": {
          "base_uri": "https://localhost:8080/",
          "height": 206
        },
        "outputId": "dfe51fa0-6e93-4cbd-fb25-6c5752bd35ee"
      },
      "execution_count": null,
      "outputs": [
        {
          "output_type": "execute_result",
          "data": {
            "text/plain": [
              "        Date    Price     Open     High      Low       Vol Change %  \\\n",
              "1 2022-07-11  19963.2  20847.2  20855.0  19897.0  160200.0   -4.24%   \n",
              "2 2022-07-10  20847.4  21587.4  21599.2  20689.7  204680.0   -3.43%   \n",
              "3 2022-07-09  21587.5  21610.4  21944.1  21338.4  190110.0   -0.11%   \n",
              "4 2022-07-08  21611.2  21637.1  22482.1  21207.0  439900.0   -0.12%   \n",
              "5 2022-07-07  21637.8  20557.9  21817.8  20282.7  115810.0    5.24%   \n",
              "\n",
              "   Nasdaq Index   NFT Index  \n",
              "1  14644.950195  699.971436  \n",
              "2  14543.129883  668.401733  \n",
              "3  14427.240234  620.450928  \n",
              "4  14274.980469  585.281433  \n",
              "5  14498.879883  588.493835  "
            ],
            "text/html": [
              "\n",
              "  <div id=\"df-0fc4220b-ee9a-4a4e-bc3c-f39fdc6494a1\">\n",
              "    <div class=\"colab-df-container\">\n",
              "      <div>\n",
              "<style scoped>\n",
              "    .dataframe tbody tr th:only-of-type {\n",
              "        vertical-align: middle;\n",
              "    }\n",
              "\n",
              "    .dataframe tbody tr th {\n",
              "        vertical-align: top;\n",
              "    }\n",
              "\n",
              "    .dataframe thead th {\n",
              "        text-align: right;\n",
              "    }\n",
              "</style>\n",
              "<table border=\"1\" class=\"dataframe\">\n",
              "  <thead>\n",
              "    <tr style=\"text-align: right;\">\n",
              "      <th></th>\n",
              "      <th>Date</th>\n",
              "      <th>Price</th>\n",
              "      <th>Open</th>\n",
              "      <th>High</th>\n",
              "      <th>Low</th>\n",
              "      <th>Vol</th>\n",
              "      <th>Change %</th>\n",
              "      <th>Nasdaq Index</th>\n",
              "      <th>NFT Index</th>\n",
              "    </tr>\n",
              "  </thead>\n",
              "  <tbody>\n",
              "    <tr>\n",
              "      <th>1</th>\n",
              "      <td>2022-07-11</td>\n",
              "      <td>19963.2</td>\n",
              "      <td>20847.2</td>\n",
              "      <td>20855.0</td>\n",
              "      <td>19897.0</td>\n",
              "      <td>160200.0</td>\n",
              "      <td>-4.24%</td>\n",
              "      <td>14644.950195</td>\n",
              "      <td>699.971436</td>\n",
              "    </tr>\n",
              "    <tr>\n",
              "      <th>2</th>\n",
              "      <td>2022-07-10</td>\n",
              "      <td>20847.4</td>\n",
              "      <td>21587.4</td>\n",
              "      <td>21599.2</td>\n",
              "      <td>20689.7</td>\n",
              "      <td>204680.0</td>\n",
              "      <td>-3.43%</td>\n",
              "      <td>14543.129883</td>\n",
              "      <td>668.401733</td>\n",
              "    </tr>\n",
              "    <tr>\n",
              "      <th>3</th>\n",
              "      <td>2022-07-09</td>\n",
              "      <td>21587.5</td>\n",
              "      <td>21610.4</td>\n",
              "      <td>21944.1</td>\n",
              "      <td>21338.4</td>\n",
              "      <td>190110.0</td>\n",
              "      <td>-0.11%</td>\n",
              "      <td>14427.240234</td>\n",
              "      <td>620.450928</td>\n",
              "    </tr>\n",
              "    <tr>\n",
              "      <th>4</th>\n",
              "      <td>2022-07-08</td>\n",
              "      <td>21611.2</td>\n",
              "      <td>21637.1</td>\n",
              "      <td>22482.1</td>\n",
              "      <td>21207.0</td>\n",
              "      <td>439900.0</td>\n",
              "      <td>-0.12%</td>\n",
              "      <td>14274.980469</td>\n",
              "      <td>585.281433</td>\n",
              "    </tr>\n",
              "    <tr>\n",
              "      <th>5</th>\n",
              "      <td>2022-07-07</td>\n",
              "      <td>21637.8</td>\n",
              "      <td>20557.9</td>\n",
              "      <td>21817.8</td>\n",
              "      <td>20282.7</td>\n",
              "      <td>115810.0</td>\n",
              "      <td>5.24%</td>\n",
              "      <td>14498.879883</td>\n",
              "      <td>588.493835</td>\n",
              "    </tr>\n",
              "  </tbody>\n",
              "</table>\n",
              "</div>\n",
              "      <button class=\"colab-df-convert\" onclick=\"convertToInteractive('df-0fc4220b-ee9a-4a4e-bc3c-f39fdc6494a1')\"\n",
              "              title=\"Convert this dataframe to an interactive table.\"\n",
              "              style=\"display:none;\">\n",
              "        \n",
              "  <svg xmlns=\"http://www.w3.org/2000/svg\" height=\"24px\"viewBox=\"0 0 24 24\"\n",
              "       width=\"24px\">\n",
              "    <path d=\"M0 0h24v24H0V0z\" fill=\"none\"/>\n",
              "    <path d=\"M18.56 5.44l.94 2.06.94-2.06 2.06-.94-2.06-.94-.94-2.06-.94 2.06-2.06.94zm-11 1L8.5 8.5l.94-2.06 2.06-.94-2.06-.94L8.5 2.5l-.94 2.06-2.06.94zm10 10l.94 2.06.94-2.06 2.06-.94-2.06-.94-.94-2.06-.94 2.06-2.06.94z\"/><path d=\"M17.41 7.96l-1.37-1.37c-.4-.4-.92-.59-1.43-.59-.52 0-1.04.2-1.43.59L10.3 9.45l-7.72 7.72c-.78.78-.78 2.05 0 2.83L4 21.41c.39.39.9.59 1.41.59.51 0 1.02-.2 1.41-.59l7.78-7.78 2.81-2.81c.8-.78.8-2.07 0-2.86zM5.41 20L4 18.59l7.72-7.72 1.47 1.35L5.41 20z\"/>\n",
              "  </svg>\n",
              "      </button>\n",
              "      \n",
              "  <style>\n",
              "    .colab-df-container {\n",
              "      display:flex;\n",
              "      flex-wrap:wrap;\n",
              "      gap: 12px;\n",
              "    }\n",
              "\n",
              "    .colab-df-convert {\n",
              "      background-color: #E8F0FE;\n",
              "      border: none;\n",
              "      border-radius: 50%;\n",
              "      cursor: pointer;\n",
              "      display: none;\n",
              "      fill: #1967D2;\n",
              "      height: 32px;\n",
              "      padding: 0 0 0 0;\n",
              "      width: 32px;\n",
              "    }\n",
              "\n",
              "    .colab-df-convert:hover {\n",
              "      background-color: #E2EBFA;\n",
              "      box-shadow: 0px 1px 2px rgba(60, 64, 67, 0.3), 0px 1px 3px 1px rgba(60, 64, 67, 0.15);\n",
              "      fill: #174EA6;\n",
              "    }\n",
              "\n",
              "    [theme=dark] .colab-df-convert {\n",
              "      background-color: #3B4455;\n",
              "      fill: #D2E3FC;\n",
              "    }\n",
              "\n",
              "    [theme=dark] .colab-df-convert:hover {\n",
              "      background-color: #434B5C;\n",
              "      box-shadow: 0px 1px 3px 1px rgba(0, 0, 0, 0.15);\n",
              "      filter: drop-shadow(0px 1px 2px rgba(0, 0, 0, 0.3));\n",
              "      fill: #FFFFFF;\n",
              "    }\n",
              "  </style>\n",
              "\n",
              "      <script>\n",
              "        const buttonEl =\n",
              "          document.querySelector('#df-0fc4220b-ee9a-4a4e-bc3c-f39fdc6494a1 button.colab-df-convert');\n",
              "        buttonEl.style.display =\n",
              "          google.colab.kernel.accessAllowed ? 'block' : 'none';\n",
              "\n",
              "        async function convertToInteractive(key) {\n",
              "          const element = document.querySelector('#df-0fc4220b-ee9a-4a4e-bc3c-f39fdc6494a1');\n",
              "          const dataTable =\n",
              "            await google.colab.kernel.invokeFunction('convertToInteractive',\n",
              "                                                     [key], {});\n",
              "          if (!dataTable) return;\n",
              "\n",
              "          const docLinkHtml = 'Like what you see? Visit the ' +\n",
              "            '<a target=\"_blank\" href=https://colab.research.google.com/notebooks/data_table.ipynb>data table notebook</a>'\n",
              "            + ' to learn more about interactive tables.';\n",
              "          element.innerHTML = '';\n",
              "          dataTable['output_type'] = 'display_data';\n",
              "          await google.colab.output.renderOutput(dataTable, element);\n",
              "          const docLink = document.createElement('div');\n",
              "          docLink.innerHTML = docLinkHtml;\n",
              "          element.appendChild(docLink);\n",
              "        }\n",
              "      </script>\n",
              "    </div>\n",
              "  </div>\n",
              "  "
            ]
          },
          "metadata": {},
          "execution_count": 120
        }
      ]
    },
    {
      "cell_type": "markdown",
      "source": [
        "### Data Visualization"
      ],
      "metadata": {
        "id": "IAbFizecDNMM"
      }
    },
    {
      "cell_type": "code",
      "source": [
        "x = pd.Series(df_bitcoin['Date'])\n",
        "y1 = pd.Series(df_bitcoin['Price'])\n",
        "y2 = pd.Series(df_bitcoin['Nasdaq Index'])\n",
        "fig, ax = plt.subplots()\n",
        "ax = plt.gca()\n",
        "ax1 = ax.twinx()\n",
        "plt.axis('normal')\n",
        "ax.plot(x, y1, 'b',linewidth=1.5)\n",
        "ax1.plot(x, y2, 'g',linewidth=1.5)\n",
        "ax.set_ylabel(\"Price\", fontsize=12, color='blue')\n",
        "ax1.set_ylabel(\"Nasdaq Composite Index\", fontsize=12, color='green')\n",
        "ax.grid(True)\n",
        "plt.title(\"Bitcoin Price vs. Nasdaq Composite Index\", fontsize=14, color='black')\n",
        "ax.set_xlabel('Date', fontsize=12, color='black')\n",
        "fig.autofmt_xdate()\n",
        "plt.tight_layout()\n",
        "# plt.savefig('charts/nasdaq.png')\n",
        "plt.show()\n"
      ],
      "metadata": {
        "colab": {
          "base_uri": "https://localhost:8080/",
          "height": 297
        },
        "id": "Uamm0xmc6R5F",
        "outputId": "96a83a96-5aef-4bf1-a38c-5c948db73d85"
      },
      "execution_count": null,
      "outputs": [
        {
          "output_type": "display_data",
          "data": {
            "text/plain": [
              "<Figure size 432x288 with 2 Axes>"
            ],
            "image/png": "[encoded data removed]"
          },
          "metadata": {
            "needs_background": "light"
          }
        }
      ]
    },
    {
      "cell_type": "markdown",
      "source": [
        "### Data Splitting"
      ],
      "metadata": {
        "id": "HzBbQjCr3xTk"
      }
    },
    {
      "cell_type": "code",
      "source": [
        "X_data = df_bitcoin.iloc[:,[2,5,7,8]]         # defining X(features) and y(label)\n",
        "y_data = df_bitcoin.iloc[:, 1]\n",
        "# splitting X and y into training and testing sets\n",
        "XTrain, XTest, yTrain, yTest = train_test_split(X_data, y_data, test_size=0.20, random_state=0)"
      ],
      "metadata": {
        "id": "ni4_wOL97AMW"
      },
      "execution_count": null,
      "outputs": []
    },
    {
      "cell_type": "code",
      "source": [
        "print(XTrain.shape)\n",
        "print(XTest.shape)\n",
        "print(yTrain.shape)\n",
        "print(yTest.shape)"
      ],
      "metadata": {
        "id": "1MmB6O9-W8tW",
        "colab": {
          "base_uri": "https://localhost:8080/"
        },
        "outputId": "45642a8a-9aa5-4977-a6c4-3aa42dc4291d"
      },
      "execution_count": null,
      "outputs": [
        {
          "output_type": "stream",
          "name": "stdout",
          "text": [
            "(200, 4)\n",
            "(50, 4)\n",
            "(200,)\n",
            "(50,)\n"
          ]
        }
      ]
    },
    {
      "cell_type": "markdown",
      "source": [
        "### Prediction"
      ],
      "metadata": {
        "id": "svDJJ-wA31ME"
      }
    },
    {
      "cell_type": "code",
      "source": [
        "linearReg = LinearRegression()\n",
        "linearReg.fit(XTrain, yTrain)\n",
        "yPred = linearReg.predict(XTest)"
      ],
      "metadata": {
        "id": "DdsVTPlZ3Cr5"
      },
      "execution_count": null,
      "outputs": []
    },
    {
      "cell_type": "code",
      "source": [
        "r2 = r2_score(yTest, yPred)\n",
        "print('r2 Score-', r2)\n",
        "rmse = np.sqrt(mean_squared_error(yTest, yPred))\n",
        "print('RMSE- ', rmse)"
      ],
      "metadata": {
        "id": "G_lEiRxa5AiH",
        "colab": {
          "base_uri": "https://localhost:8080/"
        },
        "outputId": "67892d31-0b8f-43ec-aace-452e2c813d9d"
      },
      "execution_count": null,
      "outputs": [
        {
          "output_type": "stream",
          "name": "stdout",
          "text": [
            "r2 Score- 0.9744745796334477\n",
            "RMSE-  1369.7897356510002\n"
          ]
        }
      ]
    },
    {
      "cell_type": "code",
      "source": [
        "plt.figure(figsize=(7, 7))\n",
        "ax = sns.regplot(x = yTest, y = yPred, data=df_bitcoin, scatter_kws={'color': '#54C2CC'}, line_kws={'color': '#20525C'})\n",
        "ax.set(xlabel='Actual, US$', ylabel='Predicted, US$', title = 'Bitcoin Price: Predicted vs. Actual')\n",
        "plt.show()"
      ],
      "metadata": {
        "id": "q4K01LB_5KcI",
        "colab": {
          "base_uri": "https://localhost:8080/",
          "height": 458
        },
        "outputId": "7decbe6a-67e3-4fcb-b62b-c2204b4dc0d8"
      },
      "execution_count": null,
      "outputs": [
        {
          "output_type": "display_data",
          "data": {
            "text/plain": [
              "<Figure size 504x504 with 1 Axes>"
            ],
            "image/png": "[encoded data removed]"
          },
          "metadata": {
            "needs_background": "light"
          }
        }
      ]
    },
    {
      "cell_type": "markdown",
      "source": [
        "# Bitcoin Price Prediction\n",
        "Time Series Analysis  "
      ],
      "metadata": {
        "id": "BHzHJX8dUXFC"
      }
    },
    {
      "cell_type": "markdown",
      "source": [
        "### Loading dataset"
      ],
      "metadata": {
        "id": "zAtuEi0MecNk"
      }
    },
    {
      "cell_type": "code",
      "source": [
        "pip install yfinance"
      ],
      "metadata": {
        "id": "7WpOeB5bT-wF",
        "colab": {
          "base_uri": "https://localhost:8080/"
        },
        "outputId": "451c49e2-33c1-48f4-b581-18dbea5afe94"
      },
      "execution_count": null,
      "outputs": [
        {
          "output_type": "stream",
          "name": "stdout",
          "text": [
            "Looking in indexes: https://pypi.org/simple, https://us-python.pkg.dev/colab-wheels/public/simple/\n",
            "Requirement already satisfied: yfinance in /usr/local/lib/python3.7/dist-packages (0.1.74)\n",
            "Requirement already satisfied: multitasking>=0.0.7 in /usr/local/lib/python3.7/dist-packages (from yfinance) (0.0.11)\n",
            "Requirement already satisfied: numpy>=1.15 in /usr/local/lib/python3.7/dist-packages (from yfinance) (1.21.6)\n",
            "Requirement already satisfied: pandas>=0.24.0 in /usr/local/lib/python3.7/dist-packages (from yfinance) (1.3.5)\n",
            "Requirement already satisfied: requests>=2.26 in /usr/local/lib/python3.7/dist-packages (from yfinance) (2.28.1)\n",
            "Requirement already satisfied: lxml>=4.5.1 in /usr/local/lib/python3.7/dist-packages (from yfinance) (4.9.1)\n",
            "Requirement already satisfied: pytz>=2017.3 in /usr/local/lib/python3.7/dist-packages (from pandas>=0.24.0->yfinance) (2022.1)\n",
            "Requirement already satisfied: python-dateutil>=2.7.3 in /usr/local/lib/python3.7/dist-packages (from pandas>=0.24.0->yfinance) (2.8.2)\n",
            "Requirement already satisfied: six>=1.5 in /usr/local/lib/python3.7/dist-packages (from python-dateutil>=2.7.3->pandas>=0.24.0->yfinance) (1.15.0)\n",
            "Requirement already satisfied: idna<4,>=2.5 in /usr/local/lib/python3.7/dist-packages (from requests>=2.26->yfinance) (2.10)\n",
            "Requirement already satisfied: charset-normalizer<3,>=2 in /usr/local/lib/python3.7/dist-packages (from requests>=2.26->yfinance) (2.1.0)\n",
            "Requirement already satisfied: certifi>=2017.4.17 in /usr/local/lib/python3.7/dist-packages (from requests>=2.26->yfinance) (2022.6.15)\n",
            "Requirement already satisfied: urllib3<1.27,>=1.21.1 in /usr/local/lib/python3.7/dist-packages (from requests>=2.26->yfinance) (1.24.3)\n"
          ]
        }
      ]
    },
    {
      "cell_type": "code",
      "source": [
        "import yfinance as yf"
      ],
      "metadata": {
        "id": "tgHQEuC6UhFJ"
      },
      "execution_count": null,
      "outputs": []
    },
    {
      "cell_type": "code",
      "source": [
        "df_yf = yf.download('BTC-USD')"
      ],
      "metadata": {
        "id": "KQJEKVZWUpHp",
        "colab": {
          "base_uri": "https://localhost:8080/"
        },
        "outputId": "f009af0b-762a-42ec-95c5-f9b95fc29543"
      },
      "execution_count": null,
      "outputs": [
        {
          "output_type": "stream",
          "name": "stdout",
          "text": [
            "\r[*********************100%***********************]  1 of 1 completed\n"
          ]
        }
      ]
    },
    {
      "cell_type": "code",
      "source": [
        "df_yf.head()"
      ],
      "metadata": {
        "id": "OAmOF3vbUuqK",
        "colab": {
          "base_uri": "https://localhost:8080/",
          "height": 238
        },
        "outputId": "2168455a-d4bf-4aad-8001-5a3a7b369b54"
      },
      "execution_count": null,
      "outputs": [
        {
          "output_type": "execute_result",
          "data": {
            "text/plain": [
              "                  Open        High         Low       Close   Adj Close  \\\n",
              "Date                                                                     \n",
              "2014-09-17  465.864014  468.174011  452.421997  457.334015  457.334015   \n",
              "2014-09-18  456.859985  456.859985  413.104004  424.440002  424.440002   \n",
              "2014-09-19  424.102997  427.834991  384.532013  394.795990  394.795990   \n",
              "2014-09-20  394.673004  423.295990  389.882996  408.903992  408.903992   \n",
              "2014-09-21  408.084991  412.425995  393.181000  398.821014  398.821014   \n",
              "\n",
              "              Volume  \n",
              "Date                  \n",
              "2014-09-17  21056800  \n",
              "2014-09-18  34483200  \n",
              "2014-09-19  37919700  \n",
              "2014-09-20  36863600  \n",
              "2014-09-21  26580100  "
            ],
            "text/html": [
              "\n",
              "  <div id=\"df-b82b9bd0-4b18-46fc-9c2f-d309066736b9\">\n",
              "    <div class=\"colab-df-container\">\n",
              "      <div>\n",
              "<style scoped>\n",
              "    .dataframe tbody tr th:only-of-type {\n",
              "        vertical-align: middle;\n",
              "    }\n",
              "\n",
              "    .dataframe tbody tr th {\n",
              "        vertical-align: top;\n",
              "    }\n",
              "\n",
              "    .dataframe thead th {\n",
              "        text-align: right;\n",
              "    }\n",
              "</style>\n",
              "<table border=\"1\" class=\"dataframe\">\n",
              "  <thead>\n",
              "    <tr style=\"text-align: right;\">\n",
              "      <th></th>\n",
              "      <th>Open</th>\n",
              "      <th>High</th>\n",
              "      <th>Low</th>\n",
              "      <th>Close</th>\n",
              "      <th>Adj Close</th>\n",
              "      <th>Volume</th>\n",
              "    </tr>\n",
              "    <tr>\n",
              "      <th>Date</th>\n",
              "      <th></th>\n",
              "      <th></th>\n",
              "      <th></th>\n",
              "      <th></th>\n",
              "      <th></th>\n",
              "      <th></th>\n",
              "    </tr>\n",
              "  </thead>\n",
              "  <tbody>\n",
              "    <tr>\n",
              "      <th>2014-09-17</th>\n",
              "      <td>465.864014</td>\n",
              "      <td>468.174011</td>\n",
              "      <td>452.421997</td>\n",
              "      <td>457.334015</td>\n",
              "      <td>457.334015</td>\n",
              "      <td>21056800</td>\n",
              "    </tr>\n",
              "    <tr>\n",
              "      <th>2014-09-18</th>\n",
              "      <td>456.859985</td>\n",
              "      <td>456.859985</td>\n",
              "      <td>413.104004</td>\n",
              "      <td>424.440002</td>\n",
              "      <td>424.440002</td>\n",
              "      <td>34483200</td>\n",
              "    </tr>\n",
              "    <tr>\n",
              "      <th>2014-09-19</th>\n",
              "      <td>424.102997</td>\n",
              "      <td>427.834991</td>\n",
              "      <td>384.532013</td>\n",
              "      <td>394.795990</td>\n",
              "      <td>394.795990</td>\n",
              "      <td>37919700</td>\n",
              "    </tr>\n",
              "    <tr>\n",
              "      <th>2014-09-20</th>\n",
              "      <td>394.673004</td>\n",
              "      <td>423.295990</td>\n",
              "      <td>389.882996</td>\n",
              "      <td>408.903992</td>\n",
              "      <td>408.903992</td>\n",
              "      <td>36863600</td>\n",
              "    </tr>\n",
              "    <tr>\n",
              "      <th>2014-09-21</th>\n",
              "      <td>408.084991</td>\n",
              "      <td>412.425995</td>\n",
              "      <td>393.181000</td>\n",
              "      <td>398.821014</td>\n",
              "      <td>398.821014</td>\n",
              "      <td>26580100</td>\n",
              "    </tr>\n",
              "  </tbody>\n",
              "</table>\n",
              "</div>\n",
              "      <button class=\"colab-df-convert\" onclick=\"convertToInteractive('df-b82b9bd0-4b18-46fc-9c2f-d309066736b9')\"\n",
              "              title=\"Convert this dataframe to an interactive table.\"\n",
              "              style=\"display:none;\">\n",
              "        \n",
              "  <svg xmlns=\"http://www.w3.org/2000/svg\" height=\"24px\"viewBox=\"0 0 24 24\"\n",
              "       width=\"24px\">\n",
              "    <path d=\"M0 0h24v24H0V0z\" fill=\"none\"/>\n",
              "    <path d=\"M18.56 5.44l.94 2.06.94-2.06 2.06-.94-2.06-.94-.94-2.06-.94 2.06-2.06.94zm-11 1L8.5 8.5l.94-2.06 2.06-.94-2.06-.94L8.5 2.5l-.94 2.06-2.06.94zm10 10l.94 2.06.94-2.06 2.06-.94-2.06-.94-.94-2.06-.94 2.06-2.06.94z\"/><path d=\"M17.41 7.96l-1.37-1.37c-.4-.4-.92-.59-1.43-.59-.52 0-1.04.2-1.43.59L10.3 9.45l-7.72 7.72c-.78.78-.78 2.05 0 2.83L4 21.41c.39.39.9.59 1.41.59.51 0 1.02-.2 1.41-.59l7.78-7.78 2.81-2.81c.8-.78.8-2.07 0-2.86zM5.41 20L4 18.59l7.72-7.72 1.47 1.35L5.41 20z\"/>\n",
              "  </svg>\n",
              "      </button>\n",
              "      \n",
              "  <style>\n",
              "    .colab-df-container {\n",
              "      display:flex;\n",
              "      flex-wrap:wrap;\n",
              "      gap: 12px;\n",
              "    }\n",
              "\n",
              "    .colab-df-convert {\n",
              "      background-color: #E8F0FE;\n",
              "      border: none;\n",
              "      border-radius: 50%;\n",
              "      cursor: pointer;\n",
              "      display: none;\n",
              "      fill: #1967D2;\n",
              "      height: 32px;\n",
              "      padding: 0 0 0 0;\n",
              "      width: 32px;\n",
              "    }\n",
              "\n",
              "    .colab-df-convert:hover {\n",
              "      background-color: #E2EBFA;\n",
              "      box-shadow: 0px 1px 2px rgba(60, 64, 67, 0.3), 0px 1px 3px 1px rgba(60, 64, 67, 0.15);\n",
              "      fill: #174EA6;\n",
              "    }\n",
              "\n",
              "    [theme=dark] .colab-df-convert {\n",
              "      background-color: #3B4455;\n",
              "      fill: #D2E3FC;\n",
              "    }\n",
              "\n",
              "    [theme=dark] .colab-df-convert:hover {\n",
              "      background-color: #434B5C;\n",
              "      box-shadow: 0px 1px 3px 1px rgba(0, 0, 0, 0.15);\n",
              "      filter: drop-shadow(0px 1px 2px rgba(0, 0, 0, 0.3));\n",
              "      fill: #FFFFFF;\n",
              "    }\n",
              "  </style>\n",
              "\n",
              "      <script>\n",
              "        const buttonEl =\n",
              "          document.querySelector('#df-b82b9bd0-4b18-46fc-9c2f-d309066736b9 button.colab-df-convert');\n",
              "        buttonEl.style.display =\n",
              "          google.colab.kernel.accessAllowed ? 'block' : 'none';\n",
              "\n",
              "        async function convertToInteractive(key) {\n",
              "          const element = document.querySelector('#df-b82b9bd0-4b18-46fc-9c2f-d309066736b9');\n",
              "          const dataTable =\n",
              "            await google.colab.kernel.invokeFunction('convertToInteractive',\n",
              "                                                     [key], {});\n",
              "          if (!dataTable) return;\n",
              "\n",
              "          const docLinkHtml = 'Like what you see? Visit the ' +\n",
              "            '<a target=\"_blank\" href=https://colab.research.google.com/notebooks/data_table.ipynb>data table notebook</a>'\n",
              "            + ' to learn more about interactive tables.';\n",
              "          element.innerHTML = '';\n",
              "          dataTable['output_type'] = 'display_data';\n",
              "          await google.colab.output.renderOutput(dataTable, element);\n",
              "          const docLink = document.createElement('div');\n",
              "          docLink.innerHTML = docLinkHtml;\n",
              "          element.appendChild(docLink);\n",
              "        }\n",
              "      </script>\n",
              "    </div>\n",
              "  </div>\n",
              "  "
            ]
          },
          "metadata": {},
          "execution_count": 130
        }
      ]
    },
    {
      "cell_type": "markdown",
      "source": [
        "### Data Splitting"
      ],
      "metadata": {
        "id": "mbfJBCCyej9K"
      }
    },
    {
      "cell_type": "code",
      "source": [
        "# splitting into testing and training dataset\n",
        "to_row = int(len(df_yf)*0.9)\n",
        "training_data = list(df_yf[0:to_row]['Adj Close'])\n",
        "testing_data = list(df_yf[to_row:]['Adj Close'])"
      ],
      "metadata": {
        "id": "5HjBGsy5VzT-"
      },
      "execution_count": null,
      "outputs": []
    },
    {
      "cell_type": "code",
      "source": [
        "print(len(training_data))\n",
        "print(len(testing_data))"
      ],
      "metadata": {
        "id": "bo8vrYbHWscl",
        "colab": {
          "base_uri": "https://localhost:8080/"
        },
        "outputId": "c6b71007-5046-4162-ff64-2106ad9e0125"
      },
      "execution_count": null,
      "outputs": [
        {
          "output_type": "stream",
          "name": "stdout",
          "text": [
            "2572\n",
            "286\n"
          ]
        }
      ]
    },
    {
      "cell_type": "code",
      "source": [
        "plt.figure(figsize=(10, 5))\n",
        "plt.xlabel('Dates')\n",
        "plt.ylabel('Closing Prices')\n",
        "plt.plot(df_yf[0:to_row]['Adj Close'], 'black', label = 'train data')\n",
        "plt.plot(df_yf[to_row:]['Adj Close'], label = 'test data')\n",
        "plt.legend()\n",
        "plt.show()"
      ],
      "metadata": {
        "id": "l7IPU_mwU2Sw",
        "colab": {
          "base_uri": "https://localhost:8080/",
          "height": 334
        },
        "outputId": "cc3ad0fa-d7e4-436d-abff-d45a7bbcb03e"
      },
      "execution_count": null,
      "outputs": [
        {
          "output_type": "display_data",
          "data": {
            "text/plain": [
              "<Figure size 720x360 with 1 Axes>"
            ],
            "image/png": "[encoded data removed]"
          },
          "metadata": {
            "needs_background": "light"
          }
        }
      ]
    },
    {
      "cell_type": "markdown",
      "source": [
        "### Prediction  "
      ],
      "metadata": {
        "id": "J6Iw1re2ep9A"
      }
    },
    {
      "cell_type": "code",
      "source": [
        "model_predictions = []\n",
        "n_test_obs = len(testing_data)"
      ],
      "metadata": {
        "id": "7AO0zItcXq08"
      },
      "execution_count": null,
      "outputs": []
    },
    {
      "cell_type": "code",
      "source": [
        "for i in range(n_test_obs):\n",
        "  model = ARIMA(training_data, order = (4,1,0))\n",
        "  model_fit = model.fit()\n",
        "  output = model_fit.forecast()\n",
        "  y_hat = list(output[0])[0]\n",
        "  model_predictions.append(y_hat)\n",
        "  actual_test_value = testing_data[i]\n",
        "  training_data.append(actual_test_value)"
      ],
      "metadata": {
        "id": "wCTZChdXY9L_"
      },
      "execution_count": null,
      "outputs": []
    },
    {
      "cell_type": "code",
      "source": [
        "print(model_fit.summary())"
      ],
      "metadata": {
        "id": "Ufp4pi0FZ7cc",
        "colab": {
          "base_uri": "https://localhost:8080/"
        },
        "outputId": "c4c3ef5a-546f-4129-f258-5fc4a4743ec5"
      },
      "execution_count": null,
      "outputs": [
        {
          "output_type": "stream",
          "name": "stdout",
          "text": [
            "                             ARIMA Model Results                              \n",
            "==============================================================================\n",
            "Dep. Variable:                    D.y   No. Observations:                 2856\n",
            "Model:                 ARIMA(4, 1, 0)   Log Likelihood              -23162.111\n",
            "Method:                       css-mle   S.D. of innovations            805.162\n",
            "Date:                Thu, 14 Jul 2022   AIC                          46336.223\n",
            "Time:                        06:57:00   BIC                          46371.966\n",
            "Sample:                             1   HQIC                         46349.112\n",
            "                                                                              \n",
            "==============================================================================\n",
            "                 coef    std err          z      P>|z|      [0.025      0.975]\n",
            "------------------------------------------------------------------------------\n",
            "const          6.9169     15.614      0.443      0.658     -23.686      37.520\n",
            "ar.L1.D.y     -0.0274      0.019     -1.468      0.142      -0.064       0.009\n",
            "ar.L2.D.y      0.0050      0.019      0.266      0.790      -0.032       0.042\n",
            "ar.L3.D.y      0.0204      0.019      1.093      0.275      -0.016       0.057\n",
            "ar.L4.D.y      0.0372      0.019      1.989      0.047       0.001       0.074\n",
            "                                    Roots                                    \n",
            "=============================================================================\n",
            "                  Real          Imaginary           Modulus         Frequency\n",
            "-----------------------------------------------------------------------------\n",
            "AR.1            2.1715           -0.0000j            2.1715           -0.0000\n",
            "AR.2           -0.1738           -2.2776j            2.2842           -0.2621\n",
            "AR.3           -0.1738           +2.2776j            2.2842            0.2621\n",
            "AR.4           -2.3735           -0.0000j            2.3735           -0.5000\n",
            "-----------------------------------------------------------------------------\n"
          ]
        }
      ]
    },
    {
      "cell_type": "code",
      "source": [
        "plt.figure(figsize=(12, 5))\n",
        "date_range = df_yf[to_row:].index\n",
        "plt.plot(date_range, model_predictions, color = 'blue',\n",
        "         linestyle = 'dashed', label = 'BTC Predicted Price')\n",
        "plt.plot(date_range, testing_data, color = 'black', label = 'BTC Actual Price')\n",
        "plt.title('Bitcoin Price Prediction')\n",
        "plt.xlabel('Dates')\n",
        "plt.ylabel('Prices')\n",
        "plt.show()"
      ],
      "metadata": {
        "id": "eyXhi2doa1RX",
        "colab": {
          "base_uri": "https://localhost:8080/",
          "height": 350
        },
        "outputId": "721d3568-08d0-46bf-bd21-900b9b623229"
      },
      "execution_count": null,
      "outputs": [
        {
          "output_type": "display_data",
          "data": {
            "text/plain": [
              "<Figure size 864x360 with 1 Axes>"
            ],
            "image/png": "[encoded data removed]"
          },
          "metadata": {
            "needs_background": "light"
          }
        }
      ]
    },
    {
      "cell_type": "code",
      "source": [
        "mape = np.mean(np.abs(np.array(model_predictions) - np.array(testing_data)) / np.abs(testing_data))\n",
        "print('MAPE- ', str(mape))\n",
        "rmse = np.sqrt(mean_squared_error(testing_data, model_predictions))\n",
        "print('RMSE- ', rmse)"
      ],
      "metadata": {
        "id": "fubnBZrtdexN",
        "colab": {
          "base_uri": "https://localhost:8080/"
        },
        "outputId": "8cd37197-308b-432a-b5f3-1c0294d09f6c"
      },
      "execution_count": null,
      "outputs": [
        {
          "output_type": "stream",
          "name": "stdout",
          "text": [
            "MAPE-  0.02583677732805404\n",
            "RMSE-  1463.8493502150602\n"
          ]
        }
      ]
    }
  ]
}