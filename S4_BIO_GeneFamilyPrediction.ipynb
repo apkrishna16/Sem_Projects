{
  "cells": [
    {
      "cell_type": "markdown",
      "source": [
        "## Loading Libraries and Dataset"
      ],
      "metadata": {
        "id": "HDD-zZEj1sZS"
      }
    },
    {
      "cell_type": "code",
      "execution_count": null,
      "metadata": {
        "colab": {
          "base_uri": "https://localhost:8080/"
        },
        "id": "PA00IaZeFa4S",
        "outputId": "289b4459-dc40-499c-b69c-f03ca6eb3d44"
      },
      "outputs": [
        {
          "output_type": "stream",
          "name": "stdout",
          "text": [
            "Drive already mounted at /content/gdrive; to attempt to forcibly remount, call drive.mount(\"/content/gdrive\", force_remount=True).\n"
          ]
        }
      ],
      "source": [
        "#Setting google drive as a directory for dataset\n",
        "from google.colab import drive\n",
        "drive.mount('/content/gdrive')"
      ]
    },
    {
      "cell_type": "code",
      "execution_count": null,
      "metadata": {
        "colab": {
          "base_uri": "https://localhost:8080/"
        },
        "id": "hvMf_8N5FkDZ",
        "outputId": "37015f30-b867-4ebd-e45c-c76413965df5"
      },
      "outputs": [
        {
          "output_type": "stream",
          "name": "stdout",
          "text": [
            "Requirement already satisfied: Bio in /usr/local/lib/python3.10/dist-packages (1.5.9)\n",
            "Requirement already satisfied: biopython>=1.80 in /usr/local/lib/python3.10/dist-packages (from Bio) (1.81)\n",
            "Requirement already satisfied: requests in /usr/local/lib/python3.10/dist-packages (from Bio) (2.27.1)\n",
            "Requirement already satisfied: tqdm in /usr/local/lib/python3.10/dist-packages (from Bio) (4.65.0)\n",
            "Requirement already satisfied: mygene in /usr/local/lib/python3.10/dist-packages (from Bio) (3.2.2)\n",
            "Requirement already satisfied: pandas in /usr/local/lib/python3.10/dist-packages (from Bio) (1.5.3)\n",
            "Requirement already satisfied: pooch in /usr/local/lib/python3.10/dist-packages (from Bio) (1.6.0)\n",
            "Requirement already satisfied: gprofiler-official in /usr/local/lib/python3.10/dist-packages (from Bio) (1.0.0)\n",
            "Requirement already satisfied: numpy in /usr/local/lib/python3.10/dist-packages (from biopython>=1.80->Bio) (1.22.4)\n",
            "Requirement already satisfied: biothings-client>=0.2.6 in /usr/local/lib/python3.10/dist-packages (from mygene->Bio) (0.3.0)\n",
            "Requirement already satisfied: python-dateutil>=2.8.1 in /usr/local/lib/python3.10/dist-packages (from pandas->Bio) (2.8.2)\n",
            "Requirement already satisfied: pytz>=2020.1 in /usr/local/lib/python3.10/dist-packages (from pandas->Bio) (2022.7.1)\n",
            "Requirement already satisfied: appdirs>=1.3.0 in /usr/local/lib/python3.10/dist-packages (from pooch->Bio) (1.4.4)\n",
            "Requirement already satisfied: packaging>=20.0 in /usr/local/lib/python3.10/dist-packages (from pooch->Bio) (23.1)\n",
            "Requirement already satisfied: urllib3<1.27,>=1.21.1 in /usr/local/lib/python3.10/dist-packages (from requests->Bio) (1.26.16)\n",
            "Requirement already satisfied: certifi>=2017.4.17 in /usr/local/lib/python3.10/dist-packages (from requests->Bio) (2023.5.7)\n",
            "Requirement already satisfied: charset-normalizer~=2.0.0 in /usr/local/lib/python3.10/dist-packages (from requests->Bio) (2.0.12)\n",
            "Requirement already satisfied: idna<4,>=2.5 in /usr/local/lib/python3.10/dist-packages (from requests->Bio) (3.4)\n",
            "Requirement already satisfied: six>=1.5 in /usr/local/lib/python3.10/dist-packages (from python-dateutil>=2.8.1->pandas->Bio) (1.16.0)\n"
          ]
        }
      ],
      "source": [
        "!pip install Bio"
      ]
    },
    {
      "cell_type": "code",
      "execution_count": null,
      "metadata": {
        "id": "TxKPS0DFFne1"
      },
      "outputs": [],
      "source": [
        "import pandas as pd\n",
        "import numpy as np\n",
        "\n",
        "import matplotlib.pyplot as plt\n",
        "import seaborn as sns\n",
        "from IPython.display import Image\n",
        "\n",
        "from Bio.Seq import Seq\n",
        "from Bio.SeqUtils import gc_fraction\n",
        "\n",
        "from sklearn.preprocessing import StandardScaler\n",
        "from sklearn.feature_extraction.text import CountVectorizer\n",
        "from sklearn.model_selection import train_test_split\n",
        "from sklearn.model_selection import cross_val_score, KFold\n",
        "from sklearn.naive_bayes import MultinomialNB\n",
        "from sklearn.linear_model import LogisticRegression\n",
        "from sklearn.svm import LinearSVC\n",
        "from sklearn.ensemble import RandomForestClassifier\n",
        "from sklearn import metrics\n",
        "from sklearn.metrics import confusion_matrix, accuracy_score\n",
        "sns.set_theme(style='dark', palette='crest')\n",
        "%matplotlib inline"
      ]
    },
    {
      "cell_type": "code",
      "execution_count": null,
      "metadata": {
        "id": "4z0NEYEsFpxc"
      },
      "outputs": [],
      "source": [
        "human_df = pd.read_table('/content/gdrive/MyDrive/Datasets/DNASequenceClassifier_Datasets/human_data.txt')"
      ]
    },
    {
      "cell_type": "markdown",
      "source": [
        "## Data Exploration"
      ],
      "metadata": {
        "id": "ORMox3ac19eK"
      }
    },
    {
      "cell_type": "code",
      "execution_count": null,
      "metadata": {
        "colab": {
          "base_uri": "https://localhost:8080/",
          "height": 206
        },
        "id": "wWKTxk3DFsDz",
        "outputId": "62c9d4b5-d1a7-4072-e310-23830e21f066"
      },
      "outputs": [
        {
          "output_type": "execute_result",
          "data": {
            "text/plain": [
              "                                            sequence  class\n",
              "0  ATGCCCCAACTAAATACTACCGTATGGCCCACCATAATTACCCCCA...      4\n",
              "1  ATGAACGAAAATCTGTTCGCTTCATTCATTGCCCCCACAATCCTAG...      4\n",
              "2  ATGTGTGGCATTTGGGCGCTGTTTGGCAGTGATGATTGCCTTTCTG...      3\n",
              "3  ATGTGTGGCATTTGGGCGCTGTTTGGCAGTGATGATTGCCTTTCTG...      3\n",
              "4  ATGCAACAGCATTTTGAATTTGAATACCAGACCAAAGTGGATGGTG...      3"
            ],
            "text/html": [
              "\n",
              "\n",
              "  <div id=\"df-5593aa20-7795-45b5-a050-a8559ad16f93\">\n",
              "    <div class=\"colab-df-container\">\n",
              "      <div>\n",
              "<style scoped>\n",
              "    .dataframe tbody tr th:only-of-type {\n",
              "        vertical-align: middle;\n",
              "    }\n",
              "\n",
              "    .dataframe tbody tr th {\n",
              "        vertical-align: top;\n",
              "    }\n",
              "\n",
              "    .dataframe thead th {\n",
              "        text-align: right;\n",
              "    }\n",
              "</style>\n",
              "<table border=\"1\" class=\"dataframe\">\n",
              "  <thead>\n",
              "    <tr style=\"text-align: right;\">\n",
              "      <th></th>\n",
              "      <th>sequence</th>\n",
              "      <th>class</th>\n",
              "    </tr>\n",
              "  </thead>\n",
              "  <tbody>\n",
              "    <tr>\n",
              "      <th>0</th>\n",
              "      <td>ATGCCCCAACTAAATACTACCGTATGGCCCACCATAATTACCCCCA...</td>\n",
              "      <td>4</td>\n",
              "    </tr>\n",
              "    <tr>\n",
              "      <th>1</th>\n",
              "      <td>ATGAACGAAAATCTGTTCGCTTCATTCATTGCCCCCACAATCCTAG...</td>\n",
              "      <td>4</td>\n",
              "    </tr>\n",
              "    <tr>\n",
              "      <th>2</th>\n",
              "      <td>ATGTGTGGCATTTGGGCGCTGTTTGGCAGTGATGATTGCCTTTCTG...</td>\n",
              "      <td>3</td>\n",
              "    </tr>\n",
              "    <tr>\n",
              "      <th>3</th>\n",
              "      <td>ATGTGTGGCATTTGGGCGCTGTTTGGCAGTGATGATTGCCTTTCTG...</td>\n",
              "      <td>3</td>\n",
              "    </tr>\n",
              "    <tr>\n",
              "      <th>4</th>\n",
              "      <td>ATGCAACAGCATTTTGAATTTGAATACCAGACCAAAGTGGATGGTG...</td>\n",
              "      <td>3</td>\n",
              "    </tr>\n",
              "  </tbody>\n",
              "</table>\n",
              "</div>\n",
              "      <button class=\"colab-df-convert\" onclick=\"convertToInteractive('df-5593aa20-7795-45b5-a050-a8559ad16f93')\"\n",
              "              title=\"Convert this dataframe to an interactive table.\"\n",
              "              style=\"display:none;\">\n",
              "\n",
              "  <svg xmlns=\"http://www.w3.org/2000/svg\" height=\"24px\"viewBox=\"0 0 24 24\"\n",
              "       width=\"24px\">\n",
              "    <path d=\"M0 0h24v24H0V0z\" fill=\"none\"/>\n",
              "    <path d=\"M18.56 5.44l.94 2.06.94-2.06 2.06-.94-2.06-.94-.94-2.06-.94 2.06-2.06.94zm-11 1L8.5 8.5l.94-2.06 2.06-.94-2.06-.94L8.5 2.5l-.94 2.06-2.06.94zm10 10l.94 2.06.94-2.06 2.06-.94-2.06-.94-.94-2.06-.94 2.06-2.06.94z\"/><path d=\"M17.41 7.96l-1.37-1.37c-.4-.4-.92-.59-1.43-.59-.52 0-1.04.2-1.43.59L10.3 9.45l-7.72 7.72c-.78.78-.78 2.05 0 2.83L4 21.41c.39.39.9.59 1.41.59.51 0 1.02-.2 1.41-.59l7.78-7.78 2.81-2.81c.8-.78.8-2.07 0-2.86zM5.41 20L4 18.59l7.72-7.72 1.47 1.35L5.41 20z\"/>\n",
              "  </svg>\n",
              "      </button>\n",
              "\n",
              "\n",
              "\n",
              "    <div id=\"df-9a0291ba-3441-4bda-82ae-b7124a5397a4\">\n",
              "      <button class=\"colab-df-quickchart\" onclick=\"quickchart('df-9a0291ba-3441-4bda-82ae-b7124a5397a4')\"\n",
              "              title=\"Suggest charts.\"\n",
              "              style=\"display:none;\">\n",
              "\n",
              "<svg xmlns=\"http://www.w3.org/2000/svg\" height=\"24px\"viewBox=\"0 0 24 24\"\n",
              "     width=\"24px\">\n",
              "    <g>\n",
              "        <path d=\"M19 3H5c-1.1 0-2 .9-2 2v14c0 1.1.9 2 2 2h14c1.1 0 2-.9 2-2V5c0-1.1-.9-2-2-2zM9 17H7v-7h2v7zm4 0h-2V7h2v10zm4 0h-2v-4h2v4z\"/>\n",
              "    </g>\n",
              "</svg>\n",
              "      </button>\n",
              "    </div>\n",
              "\n",
              "<style>\n",
              "  .colab-df-quickchart {\n",
              "    background-color: #E8F0FE;\n",
              "    border: none;\n",
              "    border-radius: 50%;\n",
              "    cursor: pointer;\n",
              "    display: none;\n",
              "    fill: #1967D2;\n",
              "    height: 32px;\n",
              "    padding: 0 0 0 0;\n",
              "    width: 32px;\n",
              "  }\n",
              "\n",
              "  .colab-df-quickchart:hover {\n",
              "    background-color: #E2EBFA;\n",
              "    box-shadow: 0px 1px 2px rgba(60, 64, 67, 0.3), 0px 1px 3px 1px rgba(60, 64, 67, 0.15);\n",
              "    fill: #174EA6;\n",
              "  }\n",
              "\n",
              "  [theme=dark] .colab-df-quickchart {\n",
              "    background-color: #3B4455;\n",
              "    fill: #D2E3FC;\n",
              "  }\n",
              "\n",
              "  [theme=dark] .colab-df-quickchart:hover {\n",
              "    background-color: #434B5C;\n",
              "    box-shadow: 0px 1px 3px 1px rgba(0, 0, 0, 0.15);\n",
              "    filter: drop-shadow(0px 1px 2px rgba(0, 0, 0, 0.3));\n",
              "    fill: #FFFFFF;\n",
              "  }\n",
              "</style>\n",
              "\n",
              "    <script>\n",
              "      async function quickchart(key) {\n",
              "        const containerElement = document.querySelector('#' + key);\n",
              "        const charts = await google.colab.kernel.invokeFunction(\n",
              "            'suggestCharts', [key], {});\n",
              "      }\n",
              "    </script>\n",
              "\n",
              "      <script>\n",
              "\n",
              "function displayQuickchartButton(domScope) {\n",
              "  let quickchartButtonEl =\n",
              "    domScope.querySelector('#df-9a0291ba-3441-4bda-82ae-b7124a5397a4 button.colab-df-quickchart');\n",
              "  quickchartButtonEl.style.display =\n",
              "    google.colab.kernel.accessAllowed ? 'block' : 'none';\n",
              "}\n",
              "\n",
              "        displayQuickchartButton(document);\n",
              "      </script>\n",
              "      <style>\n",
              "    .colab-df-container {\n",
              "      display:flex;\n",
              "      flex-wrap:wrap;\n",
              "      gap: 12px;\n",
              "    }\n",
              "\n",
              "    .colab-df-convert {\n",
              "      background-color: #E8F0FE;\n",
              "      border: none;\n",
              "      border-radius: 50%;\n",
              "      cursor: pointer;\n",
              "      display: none;\n",
              "      fill: #1967D2;\n",
              "      height: 32px;\n",
              "      padding: 0 0 0 0;\n",
              "      width: 32px;\n",
              "    }\n",
              "\n",
              "    .colab-df-convert:hover {\n",
              "      background-color: #E2EBFA;\n",
              "      box-shadow: 0px 1px 2px rgba(60, 64, 67, 0.3), 0px 1px 3px 1px rgba(60, 64, 67, 0.15);\n",
              "      fill: #174EA6;\n",
              "    }\n",
              "\n",
              "    [theme=dark] .colab-df-convert {\n",
              "      background-color: #3B4455;\n",
              "      fill: #D2E3FC;\n",
              "    }\n",
              "\n",
              "    [theme=dark] .colab-df-convert:hover {\n",
              "      background-color: #434B5C;\n",
              "      box-shadow: 0px 1px 3px 1px rgba(0, 0, 0, 0.15);\n",
              "      filter: drop-shadow(0px 1px 2px rgba(0, 0, 0, 0.3));\n",
              "      fill: #FFFFFF;\n",
              "    }\n",
              "  </style>\n",
              "\n",
              "      <script>\n",
              "        const buttonEl =\n",
              "          document.querySelector('#df-5593aa20-7795-45b5-a050-a8559ad16f93 button.colab-df-convert');\n",
              "        buttonEl.style.display =\n",
              "          google.colab.kernel.accessAllowed ? 'block' : 'none';\n",
              "\n",
              "        async function convertToInteractive(key) {\n",
              "          const element = document.querySelector('#df-5593aa20-7795-45b5-a050-a8559ad16f93');\n",
              "          const dataTable =\n",
              "            await google.colab.kernel.invokeFunction('convertToInteractive',\n",
              "                                                     [key], {});\n",
              "          if (!dataTable) return;\n",
              "\n",
              "          const docLinkHtml = 'Like what you see? Visit the ' +\n",
              "            '<a target=\"_blank\" href=https://colab.research.google.com/notebooks/data_table.ipynb>data table notebook</a>'\n",
              "            + ' to learn more about interactive tables.';\n",
              "          element.innerHTML = '';\n",
              "          dataTable['output_type'] = 'display_data';\n",
              "          await google.colab.output.renderOutput(dataTable, element);\n",
              "          const docLink = document.createElement('div');\n",
              "          docLink.innerHTML = docLinkHtml;\n",
              "          element.appendChild(docLink);\n",
              "        }\n",
              "      </script>\n",
              "    </div>\n",
              "  </div>\n"
            ]
          },
          "metadata": {},
          "execution_count": 75
        }
      ],
      "source": [
        "human_df.head()"
      ]
    },
    {
      "cell_type": "code",
      "execution_count": null,
      "metadata": {
        "colab": {
          "base_uri": "https://localhost:8080/"
        },
        "id": "_Rp6L9pKFt6W",
        "outputId": "923e2408-b878-4066-d72e-e0f276f4f78b"
      },
      "outputs": [
        {
          "output_type": "stream",
          "name": "stdout",
          "text": [
            "<class 'pandas.core.frame.DataFrame'>\n",
            "RangeIndex: 4380 entries, 0 to 4379\n",
            "Data columns (total 2 columns):\n",
            " #   Column    Non-Null Count  Dtype \n",
            "---  ------    --------------  ----- \n",
            " 0   sequence  4380 non-null   object\n",
            " 1   class     4380 non-null   int64 \n",
            "dtypes: int64(1), object(1)\n",
            "memory usage: 68.6+ KB\n"
          ]
        }
      ],
      "source": [
        "human_df.info()"
      ]
    },
    {
      "cell_type": "code",
      "execution_count": null,
      "metadata": {
        "colab": {
          "base_uri": "https://localhost:8080/",
          "height": 480
        },
        "id": "hV2RvV8LFvth",
        "outputId": "9f15e27c-5ebb-48db-f022-572384ba5402"
      },
      "outputs": [
        {
          "output_type": "display_data",
          "data": {
            "text/plain": [
              "<Figure size 640x480 with 1 Axes>"
            ],
            "image/png": "[encoded data removed]"
          },
          "metadata": {}
        }
      ],
      "source": [
        "sns.countplot(x ='class', data = human_df, palette='crest')\n",
        "plt.title(\"Gene Family\")\n",
        "plt.show()"
      ]
    },
    {
      "cell_type": "code",
      "execution_count": null,
      "metadata": {
        "id": "NW1uNIH6Fykw"
      },
      "outputs": [],
      "source": [
        "# Image(\"Capture1.PNG\")"
      ]
    },
    {
      "cell_type": "code",
      "execution_count": null,
      "metadata": {
        "colab": {
          "base_uri": "https://localhost:8080/"
        },
        "id": "iNjWAuXAF08D",
        "outputId": "d915995a-7697-446c-c55b-72d362ae4840"
      },
      "outputs": [
        {
          "output_type": "stream",
          "name": "stdout",
          "text": [
            "Sample sequence : ATGCCCCAACTAAATACTACCGTATGGCCCACCATAATTACCCCCATACTCCTTACACTATTCCTCATCACCCAACTAAAAATATTAAACACAAACTACCACCTACCTCCCTCACCAAAGCCCATAAAAATAAAAAATTATAACAAACCCTGAGAACCAAAATGAACGAAAATCTGTTCGCTTCATTCATTGCCCCCACAATCCTAG\n",
            "Complement : TACGGGGTTGATTTATGATGGCATACCGGGTGGTATTAATGGGGGTATGAGGAATGTGATAAGGAGTAGTGGGTTGATTTTTATAATTTGTGTTTGATGGTGGATGGAGGGAGTGGTTTCGGGTATTTTTATTTTTTAATATTGTTTGGGACTCTTGGTTTTACTTGCTTTTAGACAAGCGAAGTAAGTAACGGGGGTGTTAGGATC\n",
            "Reverse complement : CTAGGATTGTGGGGGCAATGAATGAAGCGAACAGATTTTCGTTCATTTTGGTTCTCAGGGTTTGTTATAATTTTTTATTTTTATGGGCTTTGGTGAGGGAGGTAGGTGGTAGTTTGTGTTTAATATTTTTAGTTGGGTGATGAGGAATAGTGTAAGGAGTATGGGGGTAATTATGGTGGGCCATACGGTAGTATTTAGTTGGGGCAT\n"
          ]
        }
      ],
      "source": [
        "sample_seq = Seq(human_df[\"sequence\"][0])\n",
        "print('Sample sequence : {}'.format(sample_seq))\n",
        "print('Complement : {}'.format(sample_seq.complement()))\n",
        "print('Reverse complement : {}'.format(sample_seq.reverse_complement()) )"
      ]
    },
    {
      "cell_type": "code",
      "execution_count": null,
      "metadata": {
        "colab": {
          "base_uri": "https://localhost:8080/"
        },
        "id": "iBoOiaR1F2yG",
        "outputId": "9339ee11-9873-4f32-8e51-b20967322945"
      },
      "outputs": [
        {
          "output_type": "stream",
          "name": "stdout",
          "text": [
            "GC% : 39.61352657004831\n"
          ]
        }
      ],
      "source": [
        "print('GC% : ' + str(gc_fraction(sample_seq)*100))"
      ]
    },
    {
      "cell_type": "code",
      "execution_count": null,
      "metadata": {
        "id": "KLTNBIwHF473",
        "colab": {
          "base_uri": "https://localhost:8080/",
          "height": 703
        },
        "outputId": "d3067239-8194-4ac4-cd28-bbafa6489931"
      },
      "outputs": [
        {
          "output_type": "display_data",
          "data": {
            "text/plain": [
              "<Figure size 600x800 with 1 Axes>"
            ],
            "image/png": "[encoded data removed]"
          },
          "metadata": {}
        }
      ],
      "source": [
        "human_df[\"length\"] = human_df.sequence.apply(lambda x : len(x))\n",
        "plt.figure(figsize=(6,8))\n",
        "plt.hist(human_df[\"length\"], bins=50)\n",
        "plt.title(\"Distribution of Length of DNA Sequence\")\n",
        "plt.show()"
      ]
    },
    {
      "cell_type": "markdown",
      "source": [
        "## Data Preprocessing"
      ],
      "metadata": {
        "id": "H7UuvXlL2JJm"
      }
    },
    {
      "cell_type": "code",
      "execution_count": null,
      "metadata": {
        "id": "ufq3ikyEGCcs"
      },
      "outputs": [],
      "source": [
        "def get_kmers(sequence, size=6):\n",
        "    return [sequence[x:x+size].lower() for x in range(len(sequence) - size + 1)]"
      ]
    },
    {
      "cell_type": "code",
      "execution_count": null,
      "metadata": {
        "id": "T97Nl2FgGELt"
      },
      "outputs": [],
      "source": [
        "for k in range(3,8):\n",
        "  human_df['kmers_{}'.format(k)] = human_df.apply(lambda x: get_kmers(x['sequence'], k), axis=1)"
      ]
    },
    {
      "cell_type": "code",
      "execution_count": null,
      "metadata": {
        "id": "LEIcBE82GGxT",
        "colab": {
          "base_uri": "https://localhost:8080/",
          "height": 337
        },
        "outputId": "491acea0-57fb-44b1-d064-f7f56b73d031"
      },
      "outputs": [
        {
          "output_type": "execute_result",
          "data": {
            "text/plain": [
              "                                            sequence  class  length  \\\n",
              "0  ATGCCCCAACTAAATACTACCGTATGGCCCACCATAATTACCCCCA...      4     207   \n",
              "1  ATGAACGAAAATCTGTTCGCTTCATTCATTGCCCCCACAATCCTAG...      4     681   \n",
              "2  ATGTGTGGCATTTGGGCGCTGTTTGGCAGTGATGATTGCCTTTCTG...      3    1686   \n",
              "3  ATGTGTGGCATTTGGGCGCTGTTTGGCAGTGATGATTGCCTTTCTG...      3    1206   \n",
              "4  ATGCAACAGCATTTTGAATTTGAATACCAGACCAAAGTGGATGGTG...      3    1437   \n",
              "\n",
              "                                             kmers_3  \\\n",
              "0  [atg, tgc, gcc, ccc, ccc, cca, caa, aac, act, ...   \n",
              "1  [atg, tga, gaa, aac, acg, cga, gaa, aaa, aaa, ...   \n",
              "2  [atg, tgt, gtg, tgt, gtg, tgg, ggc, gca, cat, ...   \n",
              "3  [atg, tgt, gtg, tgt, gtg, tgg, ggc, gca, cat, ...   \n",
              "4  [atg, tgc, gca, caa, aac, aca, cag, agc, gca, ...   \n",
              "\n",
              "                                             kmers_4  \\\n",
              "0  [atgc, tgcc, gccc, cccc, ccca, ccaa, caac, aac...   \n",
              "1  [atga, tgaa, gaac, aacg, acga, cgaa, gaaa, aaa...   \n",
              "2  [atgt, tgtg, gtgt, tgtg, gtgg, tggc, ggca, gca...   \n",
              "3  [atgt, tgtg, gtgt, tgtg, gtgg, tggc, ggca, gca...   \n",
              "4  [atgc, tgca, gcaa, caac, aaca, acag, cagc, agc...   \n",
              "\n",
              "                                             kmers_5  \\\n",
              "0  [atgcc, tgccc, gcccc, cccca, cccaa, ccaac, caa...   \n",
              "1  [atgaa, tgaac, gaacg, aacga, acgaa, cgaaa, gaa...   \n",
              "2  [atgtg, tgtgt, gtgtg, tgtgg, gtggc, tggca, ggc...   \n",
              "3  [atgtg, tgtgt, gtgtg, tgtgg, gtggc, tggca, ggc...   \n",
              "4  [atgca, tgcaa, gcaac, caaca, aacag, acagc, cag...   \n",
              "\n",
              "                                             kmers_6  \\\n",
              "0  [atgccc, tgcccc, gcccca, ccccaa, cccaac, ccaac...   \n",
              "1  [atgaac, tgaacg, gaacga, aacgaa, acgaaa, cgaaa...   \n",
              "2  [atgtgt, tgtgtg, gtgtgg, tgtggc, gtggca, tggca...   \n",
              "3  [atgtgt, tgtgtg, gtgtgg, tgtggc, gtggca, tggca...   \n",
              "4  [atgcaa, tgcaac, gcaaca, caacag, aacagc, acagc...   \n",
              "\n",
              "                                             kmers_7  \n",
              "0  [atgcccc, tgcccca, gccccaa, ccccaac, cccaact, ...  \n",
              "1  [atgaacg, tgaacga, gaacgaa, aacgaaa, acgaaaa, ...  \n",
              "2  [atgtgtg, tgtgtgg, gtgtggc, tgtggca, gtggcat, ...  \n",
              "3  [atgtgtg, tgtgtgg, gtgtggc, tgtggca, gtggcat, ...  \n",
              "4  [atgcaac, tgcaaca, gcaacag, caacagc, aacagca, ...  "
            ],
            "text/html": [
              "\n",
              "\n",
              "  <div id=\"df-94f3adb0-81bf-4339-a127-f9a8982e9bc7\">\n",
              "    <div class=\"colab-df-container\">\n",
              "      <div>\n",
              "<style scoped>\n",
              "    .dataframe tbody tr th:only-of-type {\n",
              "        vertical-align: middle;\n",
              "    }\n",
              "\n",
              "    .dataframe tbody tr th {\n",
              "        vertical-align: top;\n",
              "    }\n",
              "\n",
              "    .dataframe thead th {\n",
              "        text-align: right;\n",
              "    }\n",
              "</style>\n",
              "<table border=\"1\" class=\"dataframe\">\n",
              "  <thead>\n",
              "    <tr style=\"text-align: right;\">\n",
              "      <th></th>\n",
              "      <th>sequence</th>\n",
              "      <th>class</th>\n",
              "      <th>length</th>\n",
              "      <th>kmers_3</th>\n",
              "      <th>kmers_4</th>\n",
              "      <th>kmers_5</th>\n",
              "      <th>kmers_6</th>\n",
              "      <th>kmers_7</th>\n",
              "    </tr>\n",
              "  </thead>\n",
              "  <tbody>\n",
              "    <tr>\n",
              "      <th>0</th>\n",
              "      <td>ATGCCCCAACTAAATACTACCGTATGGCCCACCATAATTACCCCCA...</td>\n",
              "      <td>4</td>\n",
              "      <td>207</td>\n",
              "      <td>[atg, tgc, gcc, ccc, ccc, cca, caa, aac, act, ...</td>\n",
              "      <td>[atgc, tgcc, gccc, cccc, ccca, ccaa, caac, aac...</td>\n",
              "      <td>[atgcc, tgccc, gcccc, cccca, cccaa, ccaac, caa...</td>\n",
              "      <td>[atgccc, tgcccc, gcccca, ccccaa, cccaac, ccaac...</td>\n",
              "      <td>[atgcccc, tgcccca, gccccaa, ccccaac, cccaact, ...</td>\n",
              "    </tr>\n",
              "    <tr>\n",
              "      <th>1</th>\n",
              "      <td>ATGAACGAAAATCTGTTCGCTTCATTCATTGCCCCCACAATCCTAG...</td>\n",
              "      <td>4</td>\n",
              "      <td>681</td>\n",
              "      <td>[atg, tga, gaa, aac, acg, cga, gaa, aaa, aaa, ...</td>\n",
              "      <td>[atga, tgaa, gaac, aacg, acga, cgaa, gaaa, aaa...</td>\n",
              "      <td>[atgaa, tgaac, gaacg, aacga, acgaa, cgaaa, gaa...</td>\n",
              "      <td>[atgaac, tgaacg, gaacga, aacgaa, acgaaa, cgaaa...</td>\n",
              "      <td>[atgaacg, tgaacga, gaacgaa, aacgaaa, acgaaaa, ...</td>\n",
              "    </tr>\n",
              "    <tr>\n",
              "      <th>2</th>\n",
              "      <td>ATGTGTGGCATTTGGGCGCTGTTTGGCAGTGATGATTGCCTTTCTG...</td>\n",
              "      <td>3</td>\n",
              "      <td>1686</td>\n",
              "      <td>[atg, tgt, gtg, tgt, gtg, tgg, ggc, gca, cat, ...</td>\n",
              "      <td>[atgt, tgtg, gtgt, tgtg, gtgg, tggc, ggca, gca...</td>\n",
              "      <td>[atgtg, tgtgt, gtgtg, tgtgg, gtggc, tggca, ggc...</td>\n",
              "      <td>[atgtgt, tgtgtg, gtgtgg, tgtggc, gtggca, tggca...</td>\n",
              "      <td>[atgtgtg, tgtgtgg, gtgtggc, tgtggca, gtggcat, ...</td>\n",
              "    </tr>\n",
              "    <tr>\n",
              "      <th>3</th>\n",
              "      <td>ATGTGTGGCATTTGGGCGCTGTTTGGCAGTGATGATTGCCTTTCTG...</td>\n",
              "      <td>3</td>\n",
              "      <td>1206</td>\n",
              "      <td>[atg, tgt, gtg, tgt, gtg, tgg, ggc, gca, cat, ...</td>\n",
              "      <td>[atgt, tgtg, gtgt, tgtg, gtgg, tggc, ggca, gca...</td>\n",
              "      <td>[atgtg, tgtgt, gtgtg, tgtgg, gtggc, tggca, ggc...</td>\n",
              "      <td>[atgtgt, tgtgtg, gtgtgg, tgtggc, gtggca, tggca...</td>\n",
              "      <td>[atgtgtg, tgtgtgg, gtgtggc, tgtggca, gtggcat, ...</td>\n",
              "    </tr>\n",
              "    <tr>\n",
              "      <th>4</th>\n",
              "      <td>ATGCAACAGCATTTTGAATTTGAATACCAGACCAAAGTGGATGGTG...</td>\n",
              "      <td>3</td>\n",
              "      <td>1437</td>\n",
              "      <td>[atg, tgc, gca, caa, aac, aca, cag, agc, gca, ...</td>\n",
              "      <td>[atgc, tgca, gcaa, caac, aaca, acag, cagc, agc...</td>\n",
              "      <td>[atgca, tgcaa, gcaac, caaca, aacag, acagc, cag...</td>\n",
              "      <td>[atgcaa, tgcaac, gcaaca, caacag, aacagc, acagc...</td>\n",
              "      <td>[atgcaac, tgcaaca, gcaacag, caacagc, aacagca, ...</td>\n",
              "    </tr>\n",
              "  </tbody>\n",
              "</table>\n",
              "</div>\n",
              "      <button class=\"colab-df-convert\" onclick=\"convertToInteractive('df-94f3adb0-81bf-4339-a127-f9a8982e9bc7')\"\n",
              "              title=\"Convert this dataframe to an interactive table.\"\n",
              "              style=\"display:none;\">\n",
              "\n",
              "  <svg xmlns=\"http://www.w3.org/2000/svg\" height=\"24px\"viewBox=\"0 0 24 24\"\n",
              "       width=\"24px\">\n",
              "    <path d=\"M0 0h24v24H0V0z\" fill=\"none\"/>\n",
              "    <path d=\"M18.56 5.44l.94 2.06.94-2.06 2.06-.94-2.06-.94-.94-2.06-.94 2.06-2.06.94zm-11 1L8.5 8.5l.94-2.06 2.06-.94-2.06-.94L8.5 2.5l-.94 2.06-2.06.94zm10 10l.94 2.06.94-2.06 2.06-.94-2.06-.94-.94-2.06-.94 2.06-2.06.94z\"/><path d=\"M17.41 7.96l-1.37-1.37c-.4-.4-.92-.59-1.43-.59-.52 0-1.04.2-1.43.59L10.3 9.45l-7.72 7.72c-.78.78-.78 2.05 0 2.83L4 21.41c.39.39.9.59 1.41.59.51 0 1.02-.2 1.41-.59l7.78-7.78 2.81-2.81c.8-.78.8-2.07 0-2.86zM5.41 20L4 18.59l7.72-7.72 1.47 1.35L5.41 20z\"/>\n",
              "  </svg>\n",
              "      </button>\n",
              "\n",
              "\n",
              "\n",
              "    <div id=\"df-8a5bbe1e-e190-46c0-9d45-b43d9c81b586\">\n",
              "      <button class=\"colab-df-quickchart\" onclick=\"quickchart('df-8a5bbe1e-e190-46c0-9d45-b43d9c81b586')\"\n",
              "              title=\"Suggest charts.\"\n",
              "              style=\"display:none;\">\n",
              "\n",
              "<svg xmlns=\"http://www.w3.org/2000/svg\" height=\"24px\"viewBox=\"0 0 24 24\"\n",
              "     width=\"24px\">\n",
              "    <g>\n",
              "        <path d=\"M19 3H5c-1.1 0-2 .9-2 2v14c0 1.1.9 2 2 2h14c1.1 0 2-.9 2-2V5c0-1.1-.9-2-2-2zM9 17H7v-7h2v7zm4 0h-2V7h2v10zm4 0h-2v-4h2v4z\"/>\n",
              "    </g>\n",
              "</svg>\n",
              "      </button>\n",
              "    </div>\n",
              "\n",
              "<style>\n",
              "  .colab-df-quickchart {\n",
              "    background-color: #E8F0FE;\n",
              "    border: none;\n",
              "    border-radius: 50%;\n",
              "    cursor: pointer;\n",
              "    display: none;\n",
              "    fill: #1967D2;\n",
              "    height: 32px;\n",
              "    padding: 0 0 0 0;\n",
              "    width: 32px;\n",
              "  }\n",
              "\n",
              "  .colab-df-quickchart:hover {\n",
              "    background-color: #E2EBFA;\n",
              "    box-shadow: 0px 1px 2px rgba(60, 64, 67, 0.3), 0px 1px 3px 1px rgba(60, 64, 67, 0.15);\n",
              "    fill: #174EA6;\n",
              "  }\n",
              "\n",
              "  [theme=dark] .colab-df-quickchart {\n",
              "    background-color: #3B4455;\n",
              "    fill: #D2E3FC;\n",
              "  }\n",
              "\n",
              "  [theme=dark] .colab-df-quickchart:hover {\n",
              "    background-color: #434B5C;\n",
              "    box-shadow: 0px 1px 3px 1px rgba(0, 0, 0, 0.15);\n",
              "    filter: drop-shadow(0px 1px 2px rgba(0, 0, 0, 0.3));\n",
              "    fill: #FFFFFF;\n",
              "  }\n",
              "</style>\n",
              "\n",
              "    <script>\n",
              "      async function quickchart(key) {\n",
              "        const containerElement = document.querySelector('#' + key);\n",
              "        const charts = await google.colab.kernel.invokeFunction(\n",
              "            'suggestCharts', [key], {});\n",
              "      }\n",
              "    </script>\n",
              "\n",
              "      <script>\n",
              "\n",
              "function displayQuickchartButton(domScope) {\n",
              "  let quickchartButtonEl =\n",
              "    domScope.querySelector('#df-8a5bbe1e-e190-46c0-9d45-b43d9c81b586 button.colab-df-quickchart');\n",
              "  quickchartButtonEl.style.display =\n",
              "    google.colab.kernel.accessAllowed ? 'block' : 'none';\n",
              "}\n",
              "\n",
              "        displayQuickchartButton(document);\n",
              "      </script>\n",
              "      <style>\n",
              "    .colab-df-container {\n",
              "      display:flex;\n",
              "      flex-wrap:wrap;\n",
              "      gap: 12px;\n",
              "    }\n",
              "\n",
              "    .colab-df-convert {\n",
              "      background-color: #E8F0FE;\n",
              "      border: none;\n",
              "      border-radius: 50%;\n",
              "      cursor: pointer;\n",
              "      display: none;\n",
              "      fill: #1967D2;\n",
              "      height: 32px;\n",
              "      padding: 0 0 0 0;\n",
              "      width: 32px;\n",
              "    }\n",
              "\n",
              "    .colab-df-convert:hover {\n",
              "      background-color: #E2EBFA;\n",
              "      box-shadow: 0px 1px 2px rgba(60, 64, 67, 0.3), 0px 1px 3px 1px rgba(60, 64, 67, 0.15);\n",
              "      fill: #174EA6;\n",
              "    }\n",
              "\n",
              "    [theme=dark] .colab-df-convert {\n",
              "      background-color: #3B4455;\n",
              "      fill: #D2E3FC;\n",
              "    }\n",
              "\n",
              "    [theme=dark] .colab-df-convert:hover {\n",
              "      background-color: #434B5C;\n",
              "      box-shadow: 0px 1px 3px 1px rgba(0, 0, 0, 0.15);\n",
              "      filter: drop-shadow(0px 1px 2px rgba(0, 0, 0, 0.3));\n",
              "      fill: #FFFFFF;\n",
              "    }\n",
              "  </style>\n",
              "\n",
              "      <script>\n",
              "        const buttonEl =\n",
              "          document.querySelector('#df-94f3adb0-81bf-4339-a127-f9a8982e9bc7 button.colab-df-convert');\n",
              "        buttonEl.style.display =\n",
              "          google.colab.kernel.accessAllowed ? 'block' : 'none';\n",
              "\n",
              "        async function convertToInteractive(key) {\n",
              "          const element = document.querySelector('#df-94f3adb0-81bf-4339-a127-f9a8982e9bc7');\n",
              "          const dataTable =\n",
              "            await google.colab.kernel.invokeFunction('convertToInteractive',\n",
              "                                                     [key], {});\n",
              "          if (!dataTable) return;\n",
              "\n",
              "          const docLinkHtml = 'Like what you see? Visit the ' +\n",
              "            '<a target=\"_blank\" href=https://colab.research.google.com/notebooks/data_table.ipynb>data table notebook</a>'\n",
              "            + ' to learn more about interactive tables.';\n",
              "          element.innerHTML = '';\n",
              "          dataTable['output_type'] = 'display_data';\n",
              "          await google.colab.output.renderOutput(dataTable, element);\n",
              "          const docLink = document.createElement('div');\n",
              "          docLink.innerHTML = docLinkHtml;\n",
              "          element.appendChild(docLink);\n",
              "        }\n",
              "      </script>\n",
              "    </div>\n",
              "  </div>\n"
            ]
          },
          "metadata": {},
          "execution_count": 84
        }
      ],
      "source": [
        "human_df.head()"
      ]
    },
    {
      "cell_type": "code",
      "execution_count": null,
      "metadata": {
        "id": "rfvMSOPnGJFO"
      },
      "outputs": [],
      "source": [
        "for k in range(3,8):\n",
        "  human_df['kmers_{}'.format(k)] = human_df['kmers_{}'.format(k)].apply(lambda x:  ' '.join(x))"
      ]
    },
    {
      "cell_type": "code",
      "execution_count": null,
      "metadata": {
        "id": "eALeBMmWGKug",
        "colab": {
          "base_uri": "https://localhost:8080/",
          "height": 337
        },
        "outputId": "0129be31-bc3d-48fb-ca1f-b479d3926322"
      },
      "outputs": [
        {
          "output_type": "execute_result",
          "data": {
            "text/plain": [
              "                                            sequence  class  length  \\\n",
              "0  ATGCCCCAACTAAATACTACCGTATGGCCCACCATAATTACCCCCA...      4     207   \n",
              "1  ATGAACGAAAATCTGTTCGCTTCATTCATTGCCCCCACAATCCTAG...      4     681   \n",
              "2  ATGTGTGGCATTTGGGCGCTGTTTGGCAGTGATGATTGCCTTTCTG...      3    1686   \n",
              "3  ATGTGTGGCATTTGGGCGCTGTTTGGCAGTGATGATTGCCTTTCTG...      3    1206   \n",
              "4  ATGCAACAGCATTTTGAATTTGAATACCAGACCAAAGTGGATGGTG...      3    1437   \n",
              "\n",
              "                                             kmers_3  \\\n",
              "0  atg tgc gcc ccc ccc cca caa aac act cta taa aa...   \n",
              "1  atg tga gaa aac acg cga gaa aaa aaa aat atc tc...   \n",
              "2  atg tgt gtg tgt gtg tgg ggc gca cat att ttt tt...   \n",
              "3  atg tgt gtg tgt gtg tgg ggc gca cat att ttt tt...   \n",
              "4  atg tgc gca caa aac aca cag agc gca cat att tt...   \n",
              "\n",
              "                                             kmers_4  \\\n",
              "0  atgc tgcc gccc cccc ccca ccaa caac aact acta c...   \n",
              "1  atga tgaa gaac aacg acga cgaa gaaa aaaa aaat a...   \n",
              "2  atgt tgtg gtgt tgtg gtgg tggc ggca gcat catt a...   \n",
              "3  atgt tgtg gtgt tgtg gtgg tggc ggca gcat catt a...   \n",
              "4  atgc tgca gcaa caac aaca acag cagc agca gcat c...   \n",
              "\n",
              "                                             kmers_5  \\\n",
              "0  atgcc tgccc gcccc cccca cccaa ccaac caact aact...   \n",
              "1  atgaa tgaac gaacg aacga acgaa cgaaa gaaaa aaaa...   \n",
              "2  atgtg tgtgt gtgtg tgtgg gtggc tggca ggcat gcat...   \n",
              "3  atgtg tgtgt gtgtg tgtgg gtggc tggca ggcat gcat...   \n",
              "4  atgca tgcaa gcaac caaca aacag acagc cagca agca...   \n",
              "\n",
              "                                             kmers_6  \\\n",
              "0  atgccc tgcccc gcccca ccccaa cccaac ccaact caac...   \n",
              "1  atgaac tgaacg gaacga aacgaa acgaaa cgaaaa gaaa...   \n",
              "2  atgtgt tgtgtg gtgtgg tgtggc gtggca tggcat ggca...   \n",
              "3  atgtgt tgtgtg gtgtgg tgtggc gtggca tggcat ggca...   \n",
              "4  atgcaa tgcaac gcaaca caacag aacagc acagca cagc...   \n",
              "\n",
              "                                             kmers_7  \n",
              "0  atgcccc tgcccca gccccaa ccccaac cccaact ccaact...  \n",
              "1  atgaacg tgaacga gaacgaa aacgaaa acgaaaa cgaaaa...  \n",
              "2  atgtgtg tgtgtgg gtgtggc tgtggca gtggcat tggcat...  \n",
              "3  atgtgtg tgtgtgg gtgtggc tgtggca gtggcat tggcat...  \n",
              "4  atgcaac tgcaaca gcaacag caacagc aacagca acagca...  "
            ],
            "text/html": [
              "\n",
              "\n",
              "  <div id=\"df-27589e9f-4162-408b-9236-afdf413f6126\">\n",
              "    <div class=\"colab-df-container\">\n",
              "      <div>\n",
              "<style scoped>\n",
              "    .dataframe tbody tr th:only-of-type {\n",
              "        vertical-align: middle;\n",
              "    }\n",
              "\n",
              "    .dataframe tbody tr th {\n",
              "        vertical-align: top;\n",
              "    }\n",
              "\n",
              "    .dataframe thead th {\n",
              "        text-align: right;\n",
              "    }\n",
              "</style>\n",
              "<table border=\"1\" class=\"dataframe\">\n",
              "  <thead>\n",
              "    <tr style=\"text-align: right;\">\n",
              "      <th></th>\n",
              "      <th>sequence</th>\n",
              "      <th>class</th>\n",
              "      <th>length</th>\n",
              "      <th>kmers_3</th>\n",
              "      <th>kmers_4</th>\n",
              "      <th>kmers_5</th>\n",
              "      <th>kmers_6</th>\n",
              "      <th>kmers_7</th>\n",
              "    </tr>\n",
              "  </thead>\n",
              "  <tbody>\n",
              "    <tr>\n",
              "      <th>0</th>\n",
              "      <td>ATGCCCCAACTAAATACTACCGTATGGCCCACCATAATTACCCCCA...</td>\n",
              "      <td>4</td>\n",
              "      <td>207</td>\n",
              "      <td>atg tgc gcc ccc ccc cca caa aac act cta taa aa...</td>\n",
              "      <td>atgc tgcc gccc cccc ccca ccaa caac aact acta c...</td>\n",
              "      <td>atgcc tgccc gcccc cccca cccaa ccaac caact aact...</td>\n",
              "      <td>atgccc tgcccc gcccca ccccaa cccaac ccaact caac...</td>\n",
              "      <td>atgcccc tgcccca gccccaa ccccaac cccaact ccaact...</td>\n",
              "    </tr>\n",
              "    <tr>\n",
              "      <th>1</th>\n",
              "      <td>ATGAACGAAAATCTGTTCGCTTCATTCATTGCCCCCACAATCCTAG...</td>\n",
              "      <td>4</td>\n",
              "      <td>681</td>\n",
              "      <td>atg tga gaa aac acg cga gaa aaa aaa aat atc tc...</td>\n",
              "      <td>atga tgaa gaac aacg acga cgaa gaaa aaaa aaat a...</td>\n",
              "      <td>atgaa tgaac gaacg aacga acgaa cgaaa gaaaa aaaa...</td>\n",
              "      <td>atgaac tgaacg gaacga aacgaa acgaaa cgaaaa gaaa...</td>\n",
              "      <td>atgaacg tgaacga gaacgaa aacgaaa acgaaaa cgaaaa...</td>\n",
              "    </tr>\n",
              "    <tr>\n",
              "      <th>2</th>\n",
              "      <td>ATGTGTGGCATTTGGGCGCTGTTTGGCAGTGATGATTGCCTTTCTG...</td>\n",
              "      <td>3</td>\n",
              "      <td>1686</td>\n",
              "      <td>atg tgt gtg tgt gtg tgg ggc gca cat att ttt tt...</td>\n",
              "      <td>atgt tgtg gtgt tgtg gtgg tggc ggca gcat catt a...</td>\n",
              "      <td>atgtg tgtgt gtgtg tgtgg gtggc tggca ggcat gcat...</td>\n",
              "      <td>atgtgt tgtgtg gtgtgg tgtggc gtggca tggcat ggca...</td>\n",
              "      <td>atgtgtg tgtgtgg gtgtggc tgtggca gtggcat tggcat...</td>\n",
              "    </tr>\n",
              "    <tr>\n",
              "      <th>3</th>\n",
              "      <td>ATGTGTGGCATTTGGGCGCTGTTTGGCAGTGATGATTGCCTTTCTG...</td>\n",
              "      <td>3</td>\n",
              "      <td>1206</td>\n",
              "      <td>atg tgt gtg tgt gtg tgg ggc gca cat att ttt tt...</td>\n",
              "      <td>atgt tgtg gtgt tgtg gtgg tggc ggca gcat catt a...</td>\n",
              "      <td>atgtg tgtgt gtgtg tgtgg gtggc tggca ggcat gcat...</td>\n",
              "      <td>atgtgt tgtgtg gtgtgg tgtggc gtggca tggcat ggca...</td>\n",
              "      <td>atgtgtg tgtgtgg gtgtggc tgtggca gtggcat tggcat...</td>\n",
              "    </tr>\n",
              "    <tr>\n",
              "      <th>4</th>\n",
              "      <td>ATGCAACAGCATTTTGAATTTGAATACCAGACCAAAGTGGATGGTG...</td>\n",
              "      <td>3</td>\n",
              "      <td>1437</td>\n",
              "      <td>atg tgc gca caa aac aca cag agc gca cat att tt...</td>\n",
              "      <td>atgc tgca gcaa caac aaca acag cagc agca gcat c...</td>\n",
              "      <td>atgca tgcaa gcaac caaca aacag acagc cagca agca...</td>\n",
              "      <td>atgcaa tgcaac gcaaca caacag aacagc acagca cagc...</td>\n",
              "      <td>atgcaac tgcaaca gcaacag caacagc aacagca acagca...</td>\n",
              "    </tr>\n",
              "  </tbody>\n",
              "</table>\n",
              "</div>\n",
              "      <button class=\"colab-df-convert\" onclick=\"convertToInteractive('df-27589e9f-4162-408b-9236-afdf413f6126')\"\n",
              "              title=\"Convert this dataframe to an interactive table.\"\n",
              "              style=\"display:none;\">\n",
              "\n",
              "  <svg xmlns=\"http://www.w3.org/2000/svg\" height=\"24px\"viewBox=\"0 0 24 24\"\n",
              "       width=\"24px\">\n",
              "    <path d=\"M0 0h24v24H0V0z\" fill=\"none\"/>\n",
              "    <path d=\"M18.56 5.44l.94 2.06.94-2.06 2.06-.94-2.06-.94-.94-2.06-.94 2.06-2.06.94zm-11 1L8.5 8.5l.94-2.06 2.06-.94-2.06-.94L8.5 2.5l-.94 2.06-2.06.94zm10 10l.94 2.06.94-2.06 2.06-.94-2.06-.94-.94-2.06-.94 2.06-2.06.94z\"/><path d=\"M17.41 7.96l-1.37-1.37c-.4-.4-.92-.59-1.43-.59-.52 0-1.04.2-1.43.59L10.3 9.45l-7.72 7.72c-.78.78-.78 2.05 0 2.83L4 21.41c.39.39.9.59 1.41.59.51 0 1.02-.2 1.41-.59l7.78-7.78 2.81-2.81c.8-.78.8-2.07 0-2.86zM5.41 20L4 18.59l7.72-7.72 1.47 1.35L5.41 20z\"/>\n",
              "  </svg>\n",
              "      </button>\n",
              "\n",
              "\n",
              "\n",
              "    <div id=\"df-e2f41cd8-2ba9-47d6-955a-1fbdebe84571\">\n",
              "      <button class=\"colab-df-quickchart\" onclick=\"quickchart('df-e2f41cd8-2ba9-47d6-955a-1fbdebe84571')\"\n",
              "              title=\"Suggest charts.\"\n",
              "              style=\"display:none;\">\n",
              "\n",
              "<svg xmlns=\"http://www.w3.org/2000/svg\" height=\"24px\"viewBox=\"0 0 24 24\"\n",
              "     width=\"24px\">\n",
              "    <g>\n",
              "        <path d=\"M19 3H5c-1.1 0-2 .9-2 2v14c0 1.1.9 2 2 2h14c1.1 0 2-.9 2-2V5c0-1.1-.9-2-2-2zM9 17H7v-7h2v7zm4 0h-2V7h2v10zm4 0h-2v-4h2v4z\"/>\n",
              "    </g>\n",
              "</svg>\n",
              "      </button>\n",
              "    </div>\n",
              "\n",
              "<style>\n",
              "  .colab-df-quickchart {\n",
              "    background-color: #E8F0FE;\n",
              "    border: none;\n",
              "    border-radius: 50%;\n",
              "    cursor: pointer;\n",
              "    display: none;\n",
              "    fill: #1967D2;\n",
              "    height: 32px;\n",
              "    padding: 0 0 0 0;\n",
              "    width: 32px;\n",
              "  }\n",
              "\n",
              "  .colab-df-quickchart:hover {\n",
              "    background-color: #E2EBFA;\n",
              "    box-shadow: 0px 1px 2px rgba(60, 64, 67, 0.3), 0px 1px 3px 1px rgba(60, 64, 67, 0.15);\n",
              "    fill: #174EA6;\n",
              "  }\n",
              "\n",
              "  [theme=dark] .colab-df-quickchart {\n",
              "    background-color: #3B4455;\n",
              "    fill: #D2E3FC;\n",
              "  }\n",
              "\n",
              "  [theme=dark] .colab-df-quickchart:hover {\n",
              "    background-color: #434B5C;\n",
              "    box-shadow: 0px 1px 3px 1px rgba(0, 0, 0, 0.15);\n",
              "    filter: drop-shadow(0px 1px 2px rgba(0, 0, 0, 0.3));\n",
              "    fill: #FFFFFF;\n",
              "  }\n",
              "</style>\n",
              "\n",
              "    <script>\n",
              "      async function quickchart(key) {\n",
              "        const containerElement = document.querySelector('#' + key);\n",
              "        const charts = await google.colab.kernel.invokeFunction(\n",
              "            'suggestCharts', [key], {});\n",
              "      }\n",
              "    </script>\n",
              "\n",
              "      <script>\n",
              "\n",
              "function displayQuickchartButton(domScope) {\n",
              "  let quickchartButtonEl =\n",
              "    domScope.querySelector('#df-e2f41cd8-2ba9-47d6-955a-1fbdebe84571 button.colab-df-quickchart');\n",
              "  quickchartButtonEl.style.display =\n",
              "    google.colab.kernel.accessAllowed ? 'block' : 'none';\n",
              "}\n",
              "\n",
              "        displayQuickchartButton(document);\n",
              "      </script>\n",
              "      <style>\n",
              "    .colab-df-container {\n",
              "      display:flex;\n",
              "      flex-wrap:wrap;\n",
              "      gap: 12px;\n",
              "    }\n",
              "\n",
              "    .colab-df-convert {\n",
              "      background-color: #E8F0FE;\n",
              "      border: none;\n",
              "      border-radius: 50%;\n",
              "      cursor: pointer;\n",
              "      display: none;\n",
              "      fill: #1967D2;\n",
              "      height: 32px;\n",
              "      padding: 0 0 0 0;\n",
              "      width: 32px;\n",
              "    }\n",
              "\n",
              "    .colab-df-convert:hover {\n",
              "      background-color: #E2EBFA;\n",
              "      box-shadow: 0px 1px 2px rgba(60, 64, 67, 0.3), 0px 1px 3px 1px rgba(60, 64, 67, 0.15);\n",
              "      fill: #174EA6;\n",
              "    }\n",
              "\n",
              "    [theme=dark] .colab-df-convert {\n",
              "      background-color: #3B4455;\n",
              "      fill: #D2E3FC;\n",
              "    }\n",
              "\n",
              "    [theme=dark] .colab-df-convert:hover {\n",
              "      background-color: #434B5C;\n",
              "      box-shadow: 0px 1px 3px 1px rgba(0, 0, 0, 0.15);\n",
              "      filter: drop-shadow(0px 1px 2px rgba(0, 0, 0, 0.3));\n",
              "      fill: #FFFFFF;\n",
              "    }\n",
              "  </style>\n",
              "\n",
              "      <script>\n",
              "        const buttonEl =\n",
              "          document.querySelector('#df-27589e9f-4162-408b-9236-afdf413f6126 button.colab-df-convert');\n",
              "        buttonEl.style.display =\n",
              "          google.colab.kernel.accessAllowed ? 'block' : 'none';\n",
              "\n",
              "        async function convertToInteractive(key) {\n",
              "          const element = document.querySelector('#df-27589e9f-4162-408b-9236-afdf413f6126');\n",
              "          const dataTable =\n",
              "            await google.colab.kernel.invokeFunction('convertToInteractive',\n",
              "                                                     [key], {});\n",
              "          if (!dataTable) return;\n",
              "\n",
              "          const docLinkHtml = 'Like what you see? Visit the ' +\n",
              "            '<a target=\"_blank\" href=https://colab.research.google.com/notebooks/data_table.ipynb>data table notebook</a>'\n",
              "            + ' to learn more about interactive tables.';\n",
              "          element.innerHTML = '';\n",
              "          dataTable['output_type'] = 'display_data';\n",
              "          await google.colab.output.renderOutput(dataTable, element);\n",
              "          const docLink = document.createElement('div');\n",
              "          docLink.innerHTML = docLinkHtml;\n",
              "          element.appendChild(docLink);\n",
              "        }\n",
              "      </script>\n",
              "    </div>\n",
              "  </div>\n"
            ]
          },
          "metadata": {},
          "execution_count": 86
        }
      ],
      "source": [
        "human_df.head()"
      ]
    },
    {
      "cell_type": "code",
      "execution_count": null,
      "metadata": {
        "id": "alFb9iAxGRFF"
      },
      "outputs": [],
      "source": [
        "X_dict = {}\n",
        "cv = CountVectorizer(ngram_range=(5,5))\n",
        "for k in range(3,8):\n",
        "  X_dict['X_{}'.format(k)] = cv.fit_transform(human_df['kmers_{}'.format(k)])"
      ]
    },
    {
      "cell_type": "code",
      "execution_count": null,
      "metadata": {
        "id": "A7-OdTFyGTQq",
        "colab": {
          "base_uri": "https://localhost:8080/"
        },
        "outputId": "db62137f-df8b-45ec-e1a5-cacbdabf1179"
      },
      "outputs": [
        {
          "output_type": "stream",
          "name": "stdout",
          "text": [
            "X_3 shape - (4380, 16834)\n",
            "X_4 shape - (4380, 65447)\n",
            "X_5 shape - (4380, 232414)\n",
            "X_6 shape - (4380, 602855)\n"
          ]
        }
      ],
      "source": [
        "for k in range(3,7):\n",
        "  print('X_{}'.format(k), 'shape -', X_dict['X_{}'.format(k)].shape)"
      ]
    },
    {
      "cell_type": "code",
      "execution_count": null,
      "metadata": {
        "id": "nEQiF4a0GU5t",
        "colab": {
          "base_uri": "https://localhost:8080/"
        },
        "outputId": "57183175-e106-452d-ad48-994903ce4dcb"
      },
      "outputs": [
        {
          "output_type": "stream",
          "name": "stdout",
          "text": [
            "atgcccc tgcccca gccccaa ccccaac cccaact : 236755\n",
            "tgcccca gccccaa ccccaac cccaact ccaacta : 917217\n",
            "gccccaa ccccaac cccaact ccaacta caactaa : 623751\n",
            "ccccaac cccaact ccaacta caactaa aactaaa : 369469\n",
            "cccaact ccaacta caactaa aactaaa actaaat : 363985\n",
            "ccaacta caactaa aactaaa actaaat ctaaata : 343135\n",
            "caactaa aactaaa actaaat ctaaata taaatac : 271298\n",
            "aactaaa actaaat ctaaata taaatac aaatact : 30851\n",
            "actaaat ctaaata taaatac aaatact aatacta : 114896\n",
            "ctaaata taaatac aaatact aatacta atactac : 454629\n",
            "taaatac aaatact aatacta atactac tactacc : 792495\n"
          ]
        }
      ],
      "source": [
        "i=0\n",
        "for key,value in cv.vocabulary_.items():\n",
        "    print(f\"{key} : {value}\")\n",
        "    i+=1\n",
        "    if i>10:break"
      ]
    },
    {
      "cell_type": "markdown",
      "source": [
        "## Validation"
      ],
      "metadata": {
        "id": "JBhDaiTR2dXQ"
      }
    },
    {
      "cell_type": "code",
      "execution_count": null,
      "metadata": {
        "id": "PVbnoIxCGMqw",
        "colab": {
          "base_uri": "https://localhost:8080/"
        },
        "outputId": "ad6f327d-2f7f-48c9-f67d-332c13c6f3e0"
      },
      "outputs": [
        {
          "output_type": "stream",
          "name": "stdout",
          "text": [
            "[4 4 3 ... 6 6 6]\n"
          ]
        }
      ],
      "source": [
        "y = human_df.loc[:, 'class'].values\n",
        "print(y)"
      ]
    },
    {
      "cell_type": "code",
      "execution_count": null,
      "metadata": {
        "id": "0Zaz1EeZGW8t"
      },
      "outputs": [],
      "source": [
        "X_train_3, X_test_3, y_train_3, y_test_3 = train_test_split(X_dict['X_3'], y, test_size = 0.20, random_state=20)\n",
        "X_train_4, X_test_4, y_train_4, y_test_4 = train_test_split(X_dict['X_4'], y, test_size = 0.20, random_state=20)\n",
        "X_train_5, X_test_5, y_train_5, y_test_5 = train_test_split(X_dict['X_5'], y, test_size = 0.20, random_state=20)\n",
        "X_train_6, X_test_6, y_train_6, y_test_6 = train_test_split(X_dict['X_6'], y, test_size = 0.20, random_state=20)\n",
        "X_train_7, X_test_7, y_train_7, y_test_7 = train_test_split(X_dict['X_7'], y, test_size = 0.20, random_state=20)"
      ]
    },
    {
      "cell_type": "code",
      "source": [
        "nb_clf = MultinomialNB(alpha=0.1)"
      ],
      "metadata": {
        "id": "Aaha30Zdw8C0"
      },
      "execution_count": null,
      "outputs": []
    },
    {
      "cell_type": "code",
      "execution_count": null,
      "metadata": {
        "id": "morq0rSRGYyN",
        "colab": {
          "base_uri": "https://localhost:8080/"
        },
        "outputId": "eaac1732-9465-45b2-811b-a2c9e43248cd"
      },
      "outputs": [
        {
          "output_type": "stream",
          "name": "stdout",
          "text": [
            "___Multinomial Naive Bayes___\n",
            "CV scores(cv) -  [0.86324786 0.84330484 0.87179487 0.86894587 0.86       0.85714286\n",
            " 0.84571429 0.82285714 0.85142857 0.85142857]\n",
            "Mean score(cv) -  0.8535864875864876\n"
          ]
        }
      ],
      "source": [
        "kf = KFold(n_splits=10)\n",
        "score_cv_3 = cross_val_score(nb_clf, X_train_3, y_train_3, cv=kf)\n",
        "print('___Multinomial Naive Bayes___')\n",
        "print('CV scores(cv) - ', score_cv_3)\n",
        "print('Mean score(cv) - ', score_cv_3.mean())"
      ]
    },
    {
      "cell_type": "code",
      "source": [
        "kf = KFold(n_splits=10)\n",
        "score_cv_4 = cross_val_score(nb_clf, X_train_4, y_train_4, cv=kf)\n",
        "print('___Multinomial Naive Bayes___')\n",
        "print('CV scores(cv) - ', score_cv_4)\n",
        "print('Mean score(cv) - ', score_cv_4.mean())"
      ],
      "metadata": {
        "colab": {
          "base_uri": "https://localhost:8080/"
        },
        "id": "ZtTHQvTWoRz-",
        "outputId": "df6cc696-8c95-4d26-a7c4-6100b5a39321"
      },
      "execution_count": null,
      "outputs": [
        {
          "output_type": "stream",
          "name": "stdout",
          "text": [
            "___Multinomial Naive Bayes___\n",
            "CV scores(cv) -  [0.94586895 0.94301994 0.95441595 0.97435897 0.93142857 0.93142857\n",
            " 0.94857143 0.92571429 0.94285714 0.91142857]\n",
            "Mean score(cv) -  0.9409092389092388\n"
          ]
        }
      ]
    },
    {
      "cell_type": "code",
      "source": [
        "kf = KFold(n_splits=10)\n",
        "score_cv_5 = cross_val_score(nb_clf, X_train_5, y_train_5, cv=kf)\n",
        "print('___Multinomial Naive Bayes___')\n",
        "print('CV scores(cv) - ', score_cv_5)\n",
        "print('Mean score(cv) - ', score_cv_5.mean())"
      ],
      "metadata": {
        "colab": {
          "base_uri": "https://localhost:8080/"
        },
        "id": "JOGBf-qgoSga",
        "outputId": "9ae060aa-355f-4b82-8508-6165987121c7"
      },
      "execution_count": null,
      "outputs": [
        {
          "output_type": "stream",
          "name": "stdout",
          "text": [
            "___Multinomial Naive Bayes___\n",
            "CV scores(cv) -  [0.96866097 0.95726496 0.96581197 0.98575499 0.96571429 0.94285714\n",
            " 0.97714286 0.95714286 0.97714286 0.95714286]\n",
            "Mean score(cv) -  0.9654635734635735\n"
          ]
        }
      ]
    },
    {
      "cell_type": "code",
      "source": [
        "kf = KFold(n_splits=10)\n",
        "score_cv_6 = cross_val_score(nb_clf, X_train_6, y_train_6, cv=kf)\n",
        "print('___Multinomial Naive Bayes___')\n",
        "print('CV scores(cv) - ', score_cv_6)\n",
        "print('Mean score(cv) - ', score_cv_6.mean())"
      ],
      "metadata": {
        "colab": {
          "base_uri": "https://localhost:8080/"
        },
        "id": "7W5rlXZVoTNI",
        "outputId": "eb5649a2-445e-4a00-ca5a-638c8ce7dfaa"
      },
      "execution_count": null,
      "outputs": [
        {
          "output_type": "stream",
          "name": "stdout",
          "text": [
            "___Multinomial Naive Bayes___\n",
            "CV scores(cv) -  [0.96581197 0.96581197 0.96866097 0.96581197 0.96285714 0.96857143\n",
            " 0.97714286 0.95428571 0.97428571 0.96571429]\n",
            "Mean score(cv) -  0.966895400895401\n"
          ]
        }
      ]
    },
    {
      "cell_type": "code",
      "source": [
        "kf = KFold(n_splits=10)\n",
        "score_cv_7 = cross_val_score(nb_clf, X_train_7, y_train_7, cv=kf)\n",
        "print('___Multinomial Naive Bayes___')\n",
        "print('CV scores(cv) - ', score_cv_7)\n",
        "print('Mean score(cv) - ', score_cv_7.mean())"
      ],
      "metadata": {
        "colab": {
          "base_uri": "https://localhost:8080/"
        },
        "id": "sJxITqa7pol_",
        "outputId": "ddeea4a8-e8f2-4c05-afb3-b99f231d6c90"
      },
      "execution_count": null,
      "outputs": [
        {
          "output_type": "stream",
          "name": "stdout",
          "text": [
            "___Multinomial Naive Bayes___\n",
            "CV scores(cv) -  [0.94301994 0.94871795 0.96011396 0.94017094 0.94571429 0.94857143\n",
            " 0.97714286 0.92571429 0.95142857 0.95714286]\n",
            "Mean score(cv) -  0.9497737077737078\n"
          ]
        }
      ]
    },
    {
      "cell_type": "code",
      "source": [
        "acc_list=[]\n",
        "acc_list.append(100*score_cv_3.mean())\n",
        "acc_list.append(100*score_cv_4.mean())\n",
        "acc_list.append(100*score_cv_5.mean())\n",
        "acc_list.append(100*score_cv_6.mean())\n",
        "acc_list.append(100*score_cv_7.mean())\n",
        "\n",
        "kmers_list=['kmers_3', 'kmers_4', 'kmers_5', 'kmers_6', 'kmers_7']\n",
        "for i in range(5):\n",
        "  print(kmers_list[i],'-',acc_list[i])\n",
        "\n",
        "plt.figure(figsize=(7,6))\n",
        "ax = sns.barplot(x=kmers_list, y=acc_list)\n",
        "plt.xlabel(\"KMers\")\n",
        "plt.ylabel(\"Accuracy\")\n",
        "plt.title(\"Accuracy vs KMers\", fontsize=10)\n",
        "plt.show()"
      ],
      "metadata": {
        "colab": {
          "base_uri": "https://localhost:8080/",
          "height": 658
        },
        "id": "XITttGWjp3E_",
        "outputId": "8bfdc3d4-67f2-4a2c-f4d4-85d66e8d0fa8"
      },
      "execution_count": null,
      "outputs": [
        {
          "output_type": "stream",
          "name": "stdout",
          "text": [
            "kmers_3 - 85.35864875864876\n",
            "kmers_4 - 94.09092389092389\n",
            "kmers_5 - 96.54635734635735\n",
            "kmers_6 - 96.6895400895401\n",
            "kmers_7 - 94.97737077737078\n"
          ]
        },
        {
          "output_type": "display_data",
          "data": {
            "text/plain": [
              "<Figure size 700x600 with 1 Axes>"
            ],
            "image/png": "[encoded data removed]"
          },
          "metadata": {}
        }
      ]
    },
    {
      "cell_type": "markdown",
      "source": [
        "## Prediction and Evaluation"
      ],
      "metadata": {
        "id": "ixK7_bzU2jWK"
      }
    },
    {
      "cell_type": "code",
      "execution_count": null,
      "metadata": {
        "id": "-yUr_8uBGa7N",
        "colab": {
          "base_uri": "https://localhost:8080/"
        },
        "outputId": "0079e9b0-b95e-4928-d0ff-1e4385975e1f"
      },
      "outputs": [
        {
          "output_type": "stream",
          "name": "stdout",
          "text": [
            "0.8595890410958904\n"
          ]
        }
      ],
      "source": [
        "nb_clf.fit(X_train_3, y_train_3)\n",
        "y_pred_3 = nb_clf.predict(X_test_3)\n",
        "accuracy_3 = accuracy_score(y_test_3, y_pred_3)\n",
        "print(accuracy_3)"
      ]
    },
    {
      "cell_type": "code",
      "source": [
        "nb_clf.fit(X_train_4, y_train_4)\n",
        "y_pred_4 = nb_clf.predict(X_test_4)\n",
        "accuracy_4 = accuracy_score(y_test_4, y_pred_4)\n",
        "print(accuracy_4)"
      ],
      "metadata": {
        "colab": {
          "base_uri": "https://localhost:8080/"
        },
        "id": "8giAzMHqwIAx",
        "outputId": "8b287f57-8b0c-45ad-8cda-3f6d95b3f544"
      },
      "execution_count": null,
      "outputs": [
        {
          "output_type": "stream",
          "name": "stdout",
          "text": [
            "0.9726027397260274\n"
          ]
        }
      ]
    },
    {
      "cell_type": "code",
      "source": [
        "nb_clf.fit(X_train_5, y_train_5)\n",
        "y_pred_5 = nb_clf.predict(X_test_5)\n",
        "accuracy_5 = accuracy_score(y_test_5, y_pred_5)\n",
        "print(accuracy_5)"
      ],
      "metadata": {
        "colab": {
          "base_uri": "https://localhost:8080/"
        },
        "id": "-zjbMIvFwIsM",
        "outputId": "ec8c9e73-561d-44d9-d5cb-0f9badf4f23b"
      },
      "execution_count": null,
      "outputs": [
        {
          "output_type": "stream",
          "name": "stdout",
          "text": [
            "0.9874429223744292\n"
          ]
        }
      ]
    },
    {
      "cell_type": "code",
      "source": [
        "nb_clf.fit(X_train_6, y_train_6)\n",
        "y_pred_6 = nb_clf.predict(X_test_6)\n",
        "accuracy_6 = accuracy_score(y_test_6, y_pred_6)\n",
        "print(accuracy_6)"
      ],
      "metadata": {
        "colab": {
          "base_uri": "https://localhost:8080/"
        },
        "id": "8Ciyqfg9wJT9",
        "outputId": "2353ad15-cef3-45e6-f973-94f06cd55f3e"
      },
      "execution_count": null,
      "outputs": [
        {
          "output_type": "stream",
          "name": "stdout",
          "text": [
            "0.9874429223744292\n"
          ]
        }
      ]
    },
    {
      "cell_type": "code",
      "source": [
        "nb_clf.fit(X_train_7, y_train_7)\n",
        "y_pred_7 = nb_clf.predict(X_test_7)\n",
        "accuracy_7 = accuracy_score(y_test_7, y_pred_7)\n",
        "print(accuracy_7)"
      ],
      "metadata": {
        "colab": {
          "base_uri": "https://localhost:8080/"
        },
        "id": "9uIFLqVUwLW-",
        "outputId": "216ae885-344a-4b07-d622-df2c29b9ddfa"
      },
      "execution_count": null,
      "outputs": [
        {
          "output_type": "stream",
          "name": "stdout",
          "text": [
            "0.9657534246575342\n"
          ]
        }
      ]
    },
    {
      "cell_type": "code",
      "execution_count": null,
      "metadata": {
        "id": "6jCbYETbGe9E",
        "colab": {
          "base_uri": "https://localhost:8080/",
          "height": 658
        },
        "outputId": "42c0d9d5-5774-4349-a902-594d2a9ab04c"
      },
      "outputs": [
        {
          "output_type": "stream",
          "name": "stdout",
          "text": [
            "kmers_3 - 85.95890410958904\n",
            "kmers_4 - 97.26027397260275\n",
            "kmers_5 - 98.74429223744292\n",
            "kmers_6 - 98.74429223744292\n",
            "kmers_7 - 96.57534246575342\n"
          ]
        },
        {
          "output_type": "display_data",
          "data": {
            "text/plain": [
              "<Figure size 700x600 with 1 Axes>"
            ],
            "image/png": "[encoded data removed]"
          },
          "metadata": {}
        }
      ],
      "source": [
        "acc_list=[]\n",
        "acc_list.append(100*accuracy_3))\n",
        "acc_list.append(100*accuracy_4)\n",
        "acc_list.append(100*accuracy_5)\n",
        "acc_list.append(100*accuracy_6)\n",
        "acc_list.append(100*accuracy_7)\n",
        "\n",
        "kmers_list=['kmers_3', 'kmers_4', 'kmers_5', 'kmers_6', 'kmers_7']\n",
        "for i in range(5):\n",
        "  print(kmers_list[i],'-',acc_list[i])\n",
        "\n",
        "plt.figure(figsize=(7,6))\n",
        "ax = sns.barplot(x=kmers_list, y=acc_list)\n",
        "plt.xlabel(\"KMers\")\n",
        "plt.ylabel(\"Accuracy\")\n",
        "plt.title(\"Accuracy vs KMers\", fontsize=10)\n",
        "plt.show()"
      ]
    },
    {
      "cell_type": "code",
      "execution_count": null,
      "metadata": {
        "id": "ROg3CVcTGcq_",
        "colab": {
          "base_uri": "https://localhost:8080/",
          "height": 575
        },
        "outputId": "bd5183ec-c384-4648-ca7d-9bb1eb0f78aa"
      },
      "outputs": [
        {
          "output_type": "display_data",
          "data": {
            "text/plain": [
              "<Figure size 700x600 with 2 Axes>"
            ],
            "image/png": "[encoded data removed]"
          },
          "metadata": {}
        }
      ],
      "source": [
        "plt.figure(figsize=(7,6))\n",
        "sns.heatmap(pd.crosstab(pd.Series(y_test_5, name='Actual'), pd.Series(y_pred_5, name='Predicted')),cmap=\"YlGnBu\",annot=True,fmt='d')\n",
        "plt.title(\"Confusion Matrix\", fontsize=15)\n",
        "plt.show()"
      ]
    }
  ],
  "metadata": {
    "colab": {
      "provenance": [],
      "toc_visible": true
    },
    "kernelspec": {
      "display_name": "Python 3",
      "name": "python3"
    },
    "language_info": {
      "name": "python"
    }
  },
  "nbformat": 4,
  "nbformat_minor": 0
}